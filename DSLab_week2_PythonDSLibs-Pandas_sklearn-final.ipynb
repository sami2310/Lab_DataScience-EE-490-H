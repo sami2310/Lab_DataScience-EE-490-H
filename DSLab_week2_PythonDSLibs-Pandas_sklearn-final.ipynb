{
 "cells": [
  {
   "cell_type": "markdown",
   "metadata": {},
   "source": [
    "## Getting familiar with Pandas"
   ]
  },
  {
   "cell_type": "code",
   "execution_count": 1,
   "metadata": {},
   "outputs": [],
   "source": [
    "## Pandas \n",
    "# there are several ways to change a column in a dataframe\n",
    "# A short intro to pandas https://pandas.pydata.org/pandas-docs/stable/10min.html\n",
    "\n",
    "import pandas as pd\n",
    "import numpy as np\n",
    "import random\n",
    "import warnings\n",
    "warnings.filterwarnings('ignore')"
   ]
  },
  {
   "cell_type": "code",
   "execution_count": 2,
   "metadata": {},
   "outputs": [],
   "source": [
    "# First step: make the dataframe\n",
    "dates = pd.date_range('20130101', '20140101') #366\n",
    "data = pd.DataFrame(np.random.randn(366,4), index=dates, columns=list('ABCD'))"
   ]
  },
  {
   "cell_type": "markdown",
   "metadata": {},
   "source": [
    "### Exercise 1.1: Inspect the dataframe with the following commands: head(), tail(), describe."
   ]
  },
  {
   "cell_type": "code",
   "execution_count": 3,
   "metadata": {},
   "outputs": [
    {
     "data": {
      "text/html": [
       "<div>\n",
       "<style scoped>\n",
       "    .dataframe tbody tr th:only-of-type {\n",
       "        vertical-align: middle;\n",
       "    }\n",
       "\n",
       "    .dataframe tbody tr th {\n",
       "        vertical-align: top;\n",
       "    }\n",
       "\n",
       "    .dataframe thead th {\n",
       "        text-align: right;\n",
       "    }\n",
       "</style>\n",
       "<table border=\"1\" class=\"dataframe\">\n",
       "  <thead>\n",
       "    <tr style=\"text-align: right;\">\n",
       "      <th></th>\n",
       "      <th>A</th>\n",
       "      <th>B</th>\n",
       "      <th>C</th>\n",
       "      <th>D</th>\n",
       "    </tr>\n",
       "  </thead>\n",
       "  <tbody>\n",
       "    <tr>\n",
       "      <th>count</th>\n",
       "      <td>366.000000</td>\n",
       "      <td>366.000000</td>\n",
       "      <td>366.000000</td>\n",
       "      <td>366.000000</td>\n",
       "    </tr>\n",
       "    <tr>\n",
       "      <th>mean</th>\n",
       "      <td>0.017629</td>\n",
       "      <td>0.005491</td>\n",
       "      <td>-0.035373</td>\n",
       "      <td>-0.040393</td>\n",
       "    </tr>\n",
       "    <tr>\n",
       "      <th>std</th>\n",
       "      <td>1.025466</td>\n",
       "      <td>1.004988</td>\n",
       "      <td>0.961726</td>\n",
       "      <td>0.956203</td>\n",
       "    </tr>\n",
       "    <tr>\n",
       "      <th>min</th>\n",
       "      <td>-3.108310</td>\n",
       "      <td>-2.821885</td>\n",
       "      <td>-3.255771</td>\n",
       "      <td>-2.906865</td>\n",
       "    </tr>\n",
       "    <tr>\n",
       "      <th>25%</th>\n",
       "      <td>-0.732374</td>\n",
       "      <td>-0.609101</td>\n",
       "      <td>-0.608921</td>\n",
       "      <td>-0.698682</td>\n",
       "    </tr>\n",
       "    <tr>\n",
       "      <th>50%</th>\n",
       "      <td>0.008178</td>\n",
       "      <td>0.011797</td>\n",
       "      <td>-0.071625</td>\n",
       "      <td>-0.018710</td>\n",
       "    </tr>\n",
       "    <tr>\n",
       "      <th>75%</th>\n",
       "      <td>0.726679</td>\n",
       "      <td>0.621726</td>\n",
       "      <td>0.587343</td>\n",
       "      <td>0.566725</td>\n",
       "    </tr>\n",
       "    <tr>\n",
       "      <th>max</th>\n",
       "      <td>2.746865</td>\n",
       "      <td>2.535413</td>\n",
       "      <td>2.773473</td>\n",
       "      <td>2.406781</td>\n",
       "    </tr>\n",
       "  </tbody>\n",
       "</table>\n",
       "</div>"
      ],
      "text/plain": [
       "                A           B           C           D\n",
       "count  366.000000  366.000000  366.000000  366.000000\n",
       "mean     0.017629    0.005491   -0.035373   -0.040393\n",
       "std      1.025466    1.004988    0.961726    0.956203\n",
       "min     -3.108310   -2.821885   -3.255771   -2.906865\n",
       "25%     -0.732374   -0.609101   -0.608921   -0.698682\n",
       "50%      0.008178    0.011797   -0.071625   -0.018710\n",
       "75%      0.726679    0.621726    0.587343    0.566725\n",
       "max      2.746865    2.535413    2.773473    2.406781"
      ]
     },
     "execution_count": 3,
     "metadata": {},
     "output_type": "execute_result"
    }
   ],
   "source": [
    "# Solution\n",
    "data.describe()"
   ]
  },
  {
   "cell_type": "code",
   "execution_count": 4,
   "metadata": {},
   "outputs": [
    {
     "data": {
      "text/html": [
       "<div>\n",
       "<style scoped>\n",
       "    .dataframe tbody tr th:only-of-type {\n",
       "        vertical-align: middle;\n",
       "    }\n",
       "\n",
       "    .dataframe tbody tr th {\n",
       "        vertical-align: top;\n",
       "    }\n",
       "\n",
       "    .dataframe thead th {\n",
       "        text-align: right;\n",
       "    }\n",
       "</style>\n",
       "<table border=\"1\" class=\"dataframe\">\n",
       "  <thead>\n",
       "    <tr style=\"text-align: right;\">\n",
       "      <th></th>\n",
       "      <th>A</th>\n",
       "      <th>B</th>\n",
       "      <th>C</th>\n",
       "      <th>D</th>\n",
       "    </tr>\n",
       "  </thead>\n",
       "  <tbody>\n",
       "    <tr>\n",
       "      <th>2013-01-01</th>\n",
       "      <td>-0.119062</td>\n",
       "      <td>-1.255248</td>\n",
       "      <td>-1.042907</td>\n",
       "      <td>-1.132132</td>\n",
       "    </tr>\n",
       "    <tr>\n",
       "      <th>2013-01-02</th>\n",
       "      <td>1.208826</td>\n",
       "      <td>-1.088850</td>\n",
       "      <td>0.590667</td>\n",
       "      <td>-0.909385</td>\n",
       "    </tr>\n",
       "    <tr>\n",
       "      <th>2013-01-03</th>\n",
       "      <td>-1.311219</td>\n",
       "      <td>0.184445</td>\n",
       "      <td>-0.377082</td>\n",
       "      <td>0.061180</td>\n",
       "    </tr>\n",
       "    <tr>\n",
       "      <th>2013-01-04</th>\n",
       "      <td>0.276654</td>\n",
       "      <td>0.720240</td>\n",
       "      <td>-0.464948</td>\n",
       "      <td>0.051937</td>\n",
       "    </tr>\n",
       "    <tr>\n",
       "      <th>2013-01-05</th>\n",
       "      <td>-0.936258</td>\n",
       "      <td>0.785123</td>\n",
       "      <td>0.998104</td>\n",
       "      <td>1.789551</td>\n",
       "    </tr>\n",
       "  </tbody>\n",
       "</table>\n",
       "</div>"
      ],
      "text/plain": [
       "                   A         B         C         D\n",
       "2013-01-01 -0.119062 -1.255248 -1.042907 -1.132132\n",
       "2013-01-02  1.208826 -1.088850  0.590667 -0.909385\n",
       "2013-01-03 -1.311219  0.184445 -0.377082  0.061180\n",
       "2013-01-04  0.276654  0.720240 -0.464948  0.051937\n",
       "2013-01-05 -0.936258  0.785123  0.998104  1.789551"
      ]
     },
     "execution_count": 4,
     "metadata": {},
     "output_type": "execute_result"
    }
   ],
   "source": [
    "data.head()"
   ]
  },
  {
   "cell_type": "code",
   "execution_count": 5,
   "metadata": {},
   "outputs": [
    {
     "data": {
      "text/html": [
       "<div>\n",
       "<style scoped>\n",
       "    .dataframe tbody tr th:only-of-type {\n",
       "        vertical-align: middle;\n",
       "    }\n",
       "\n",
       "    .dataframe tbody tr th {\n",
       "        vertical-align: top;\n",
       "    }\n",
       "\n",
       "    .dataframe thead th {\n",
       "        text-align: right;\n",
       "    }\n",
       "</style>\n",
       "<table border=\"1\" class=\"dataframe\">\n",
       "  <thead>\n",
       "    <tr style=\"text-align: right;\">\n",
       "      <th></th>\n",
       "      <th>A</th>\n",
       "      <th>B</th>\n",
       "      <th>C</th>\n",
       "      <th>D</th>\n",
       "    </tr>\n",
       "  </thead>\n",
       "  <tbody>\n",
       "    <tr>\n",
       "      <th>2013-12-28</th>\n",
       "      <td>-1.418428</td>\n",
       "      <td>0.269596</td>\n",
       "      <td>0.696942</td>\n",
       "      <td>-0.338768</td>\n",
       "    </tr>\n",
       "    <tr>\n",
       "      <th>2013-12-29</th>\n",
       "      <td>0.114491</td>\n",
       "      <td>-1.544491</td>\n",
       "      <td>-1.228628</td>\n",
       "      <td>-1.123928</td>\n",
       "    </tr>\n",
       "    <tr>\n",
       "      <th>2013-12-30</th>\n",
       "      <td>0.009441</td>\n",
       "      <td>-1.085409</td>\n",
       "      <td>0.248330</td>\n",
       "      <td>-0.214657</td>\n",
       "    </tr>\n",
       "    <tr>\n",
       "      <th>2013-12-31</th>\n",
       "      <td>2.609983</td>\n",
       "      <td>0.335848</td>\n",
       "      <td>-1.240144</td>\n",
       "      <td>0.017542</td>\n",
       "    </tr>\n",
       "    <tr>\n",
       "      <th>2014-01-01</th>\n",
       "      <td>1.076237</td>\n",
       "      <td>-2.052386</td>\n",
       "      <td>-0.893091</td>\n",
       "      <td>-2.274829</td>\n",
       "    </tr>\n",
       "  </tbody>\n",
       "</table>\n",
       "</div>"
      ],
      "text/plain": [
       "                   A         B         C         D\n",
       "2013-12-28 -1.418428  0.269596  0.696942 -0.338768\n",
       "2013-12-29  0.114491 -1.544491 -1.228628 -1.123928\n",
       "2013-12-30  0.009441 -1.085409  0.248330 -0.214657\n",
       "2013-12-31  2.609983  0.335848 -1.240144  0.017542\n",
       "2014-01-01  1.076237 -2.052386 -0.893091 -2.274829"
      ]
     },
     "execution_count": 5,
     "metadata": {},
     "output_type": "execute_result"
    }
   ],
   "source": [
    "data.tail()"
   ]
  },
  {
   "cell_type": "markdown",
   "metadata": {},
   "source": [
    "### Exercise 1.2:  The index is a time series, and pandas has a build-in command for re-sampling dataframes (documentation: https://pandas.pydata.org/pandas-docs/stable/generated/pandas.DataFrame.resample.html).  Use resample to get the median every 2 days and save this as a new dataframe."
   ]
  },
  {
   "cell_type": "code",
   "execution_count": 6,
   "metadata": {},
   "outputs": [
    {
     "data": {
      "text/html": [
       "<div>\n",
       "<style scoped>\n",
       "    .dataframe tbody tr th:only-of-type {\n",
       "        vertical-align: middle;\n",
       "    }\n",
       "\n",
       "    .dataframe tbody tr th {\n",
       "        vertical-align: top;\n",
       "    }\n",
       "\n",
       "    .dataframe thead th {\n",
       "        text-align: right;\n",
       "    }\n",
       "</style>\n",
       "<table border=\"1\" class=\"dataframe\">\n",
       "  <thead>\n",
       "    <tr style=\"text-align: right;\">\n",
       "      <th></th>\n",
       "      <th>A</th>\n",
       "      <th>B</th>\n",
       "      <th>C</th>\n",
       "      <th>D</th>\n",
       "    </tr>\n",
       "  </thead>\n",
       "  <tbody>\n",
       "    <tr>\n",
       "      <th>2013-01-01</th>\n",
       "      <td>0.544882</td>\n",
       "      <td>-1.172049</td>\n",
       "      <td>-0.226120</td>\n",
       "      <td>-1.020758</td>\n",
       "    </tr>\n",
       "    <tr>\n",
       "      <th>2013-01-03</th>\n",
       "      <td>-0.517283</td>\n",
       "      <td>0.452342</td>\n",
       "      <td>-0.421015</td>\n",
       "      <td>0.056559</td>\n",
       "    </tr>\n",
       "    <tr>\n",
       "      <th>2013-01-05</th>\n",
       "      <td>-1.063575</td>\n",
       "      <td>-0.238167</td>\n",
       "      <td>0.834049</td>\n",
       "      <td>0.941714</td>\n",
       "    </tr>\n",
       "    <tr>\n",
       "      <th>2013-01-07</th>\n",
       "      <td>-0.553274</td>\n",
       "      <td>1.094546</td>\n",
       "      <td>-0.077565</td>\n",
       "      <td>-0.431513</td>\n",
       "    </tr>\n",
       "    <tr>\n",
       "      <th>2013-01-09</th>\n",
       "      <td>1.411867</td>\n",
       "      <td>-0.169949</td>\n",
       "      <td>1.344469</td>\n",
       "      <td>0.963416</td>\n",
       "    </tr>\n",
       "  </tbody>\n",
       "</table>\n",
       "</div>"
      ],
      "text/plain": [
       "                   A         B         C         D\n",
       "2013-01-01  0.544882 -1.172049 -0.226120 -1.020758\n",
       "2013-01-03 -0.517283  0.452342 -0.421015  0.056559\n",
       "2013-01-05 -1.063575 -0.238167  0.834049  0.941714\n",
       "2013-01-07 -0.553274  1.094546 -0.077565 -0.431513\n",
       "2013-01-09  1.411867 -0.169949  1.344469  0.963416"
      ]
     },
     "execution_count": 6,
     "metadata": {},
     "output_type": "execute_result"
    }
   ],
   "source": [
    "#Solution: \n",
    "resampled_data =data.resample('2D').median()\n",
    "resampled_data.head()"
   ]
  },
  {
   "cell_type": "markdown",
   "metadata": {},
   "source": [
    "### Exercise 1.3: Inspect the new dataframe to see the difference in size compared to the inital dataframe."
   ]
  },
  {
   "cell_type": "code",
   "execution_count": 7,
   "metadata": {},
   "outputs": [
    {
     "data": {
      "text/html": [
       "<div>\n",
       "<style scoped>\n",
       "    .dataframe tbody tr th:only-of-type {\n",
       "        vertical-align: middle;\n",
       "    }\n",
       "\n",
       "    .dataframe tbody tr th {\n",
       "        vertical-align: top;\n",
       "    }\n",
       "\n",
       "    .dataframe thead th {\n",
       "        text-align: right;\n",
       "    }\n",
       "</style>\n",
       "<table border=\"1\" class=\"dataframe\">\n",
       "  <thead>\n",
       "    <tr style=\"text-align: right;\">\n",
       "      <th></th>\n",
       "      <th>A</th>\n",
       "      <th>B</th>\n",
       "      <th>C</th>\n",
       "      <th>D</th>\n",
       "    </tr>\n",
       "  </thead>\n",
       "  <tbody>\n",
       "    <tr>\n",
       "      <th>count</th>\n",
       "      <td>183.000000</td>\n",
       "      <td>183.000000</td>\n",
       "      <td>183.000000</td>\n",
       "      <td>183.000000</td>\n",
       "    </tr>\n",
       "    <tr>\n",
       "      <th>mean</th>\n",
       "      <td>0.017629</td>\n",
       "      <td>0.005491</td>\n",
       "      <td>-0.035373</td>\n",
       "      <td>-0.040393</td>\n",
       "    </tr>\n",
       "    <tr>\n",
       "      <th>std</th>\n",
       "      <td>0.718452</td>\n",
       "      <td>0.709688</td>\n",
       "      <td>0.666758</td>\n",
       "      <td>0.668308</td>\n",
       "    </tr>\n",
       "    <tr>\n",
       "      <th>min</th>\n",
       "      <td>-1.804277</td>\n",
       "      <td>-1.741286</td>\n",
       "      <td>-2.121984</td>\n",
       "      <td>-2.181758</td>\n",
       "    </tr>\n",
       "    <tr>\n",
       "      <th>25%</th>\n",
       "      <td>-0.519653</td>\n",
       "      <td>-0.480013</td>\n",
       "      <td>-0.475860</td>\n",
       "      <td>-0.484379</td>\n",
       "    </tr>\n",
       "    <tr>\n",
       "      <th>50%</th>\n",
       "      <td>-0.031977</td>\n",
       "      <td>-0.007915</td>\n",
       "      <td>-0.012806</td>\n",
       "      <td>-0.098429</td>\n",
       "    </tr>\n",
       "    <tr>\n",
       "      <th>75%</th>\n",
       "      <td>0.528211</td>\n",
       "      <td>0.470801</td>\n",
       "      <td>0.447839</td>\n",
       "      <td>0.444612</td>\n",
       "    </tr>\n",
       "    <tr>\n",
       "      <th>max</th>\n",
       "      <td>1.843110</td>\n",
       "      <td>2.357001</td>\n",
       "      <td>1.390750</td>\n",
       "      <td>1.959151</td>\n",
       "    </tr>\n",
       "  </tbody>\n",
       "</table>\n",
       "</div>"
      ],
      "text/plain": [
       "                A           B           C           D\n",
       "count  183.000000  183.000000  183.000000  183.000000\n",
       "mean     0.017629    0.005491   -0.035373   -0.040393\n",
       "std      0.718452    0.709688    0.666758    0.668308\n",
       "min     -1.804277   -1.741286   -2.121984   -2.181758\n",
       "25%     -0.519653   -0.480013   -0.475860   -0.484379\n",
       "50%     -0.031977   -0.007915   -0.012806   -0.098429\n",
       "75%      0.528211    0.470801    0.447839    0.444612\n",
       "max      1.843110    2.357001    1.390750    1.959151"
      ]
     },
     "execution_count": 7,
     "metadata": {},
     "output_type": "execute_result"
    }
   ],
   "source": [
    "#Solution: \n",
    "resampled_data.describe()"
   ]
  },
  {
   "cell_type": "markdown",
   "metadata": {},
   "source": [
    "### Exercise 1.4:  Write your new dataframe to a csv file."
   ]
  },
  {
   "cell_type": "code",
   "execution_count": 8,
   "metadata": {},
   "outputs": [],
   "source": [
    "#Solution: \n",
    "resampled_data.to_csv('resampled_data')"
   ]
  },
  {
   "cell_type": "markdown",
   "metadata": {},
   "source": [
    "### Exercise 1.5: Merge the two dataframes. There are several ways to do this, see also https://pandas.pydata.org/pandas-docs/stable/merging.html."
   ]
  },
  {
   "cell_type": "code",
   "execution_count": 9,
   "metadata": {},
   "outputs": [
    {
     "data": {
      "text/html": [
       "<div>\n",
       "<style scoped>\n",
       "    .dataframe tbody tr th:only-of-type {\n",
       "        vertical-align: middle;\n",
       "    }\n",
       "\n",
       "    .dataframe tbody tr th {\n",
       "        vertical-align: top;\n",
       "    }\n",
       "\n",
       "    .dataframe thead th {\n",
       "        text-align: right;\n",
       "    }\n",
       "</style>\n",
       "<table border=\"1\" class=\"dataframe\">\n",
       "  <thead>\n",
       "    <tr style=\"text-align: right;\">\n",
       "      <th></th>\n",
       "      <th>A_x</th>\n",
       "      <th>B_x</th>\n",
       "      <th>C_x</th>\n",
       "      <th>D_x</th>\n",
       "      <th>A_y</th>\n",
       "      <th>B_y</th>\n",
       "      <th>C_y</th>\n",
       "      <th>D_y</th>\n",
       "    </tr>\n",
       "  </thead>\n",
       "  <tbody>\n",
       "    <tr>\n",
       "      <th>2013-01-01</th>\n",
       "      <td>0.544882</td>\n",
       "      <td>-1.172049</td>\n",
       "      <td>-0.226120</td>\n",
       "      <td>-1.020758</td>\n",
       "      <td>-0.119062</td>\n",
       "      <td>-1.255248</td>\n",
       "      <td>-1.042907</td>\n",
       "      <td>-1.132132</td>\n",
       "    </tr>\n",
       "    <tr>\n",
       "      <th>2013-01-03</th>\n",
       "      <td>-0.517283</td>\n",
       "      <td>0.452342</td>\n",
       "      <td>-0.421015</td>\n",
       "      <td>0.056559</td>\n",
       "      <td>-1.311219</td>\n",
       "      <td>0.184445</td>\n",
       "      <td>-0.377082</td>\n",
       "      <td>0.061180</td>\n",
       "    </tr>\n",
       "    <tr>\n",
       "      <th>2013-01-05</th>\n",
       "      <td>-1.063575</td>\n",
       "      <td>-0.238167</td>\n",
       "      <td>0.834049</td>\n",
       "      <td>0.941714</td>\n",
       "      <td>-0.936258</td>\n",
       "      <td>0.785123</td>\n",
       "      <td>0.998104</td>\n",
       "      <td>1.789551</td>\n",
       "    </tr>\n",
       "    <tr>\n",
       "      <th>2013-01-07</th>\n",
       "      <td>-0.553274</td>\n",
       "      <td>1.094546</td>\n",
       "      <td>-0.077565</td>\n",
       "      <td>-0.431513</td>\n",
       "      <td>-1.487278</td>\n",
       "      <td>0.530999</td>\n",
       "      <td>1.384645</td>\n",
       "      <td>-0.109054</td>\n",
       "    </tr>\n",
       "    <tr>\n",
       "      <th>2013-01-09</th>\n",
       "      <td>1.411867</td>\n",
       "      <td>-0.169949</td>\n",
       "      <td>1.344469</td>\n",
       "      <td>0.963416</td>\n",
       "      <td>1.150087</td>\n",
       "      <td>-1.095934</td>\n",
       "      <td>1.880805</td>\n",
       "      <td>0.609692</td>\n",
       "    </tr>\n",
       "  </tbody>\n",
       "</table>\n",
       "</div>"
      ],
      "text/plain": [
       "                 A_x       B_x       C_x       D_x       A_y       B_y  \\\n",
       "2013-01-01  0.544882 -1.172049 -0.226120 -1.020758 -0.119062 -1.255248   \n",
       "2013-01-03 -0.517283  0.452342 -0.421015  0.056559 -1.311219  0.184445   \n",
       "2013-01-05 -1.063575 -0.238167  0.834049  0.941714 -0.936258  0.785123   \n",
       "2013-01-07 -0.553274  1.094546 -0.077565 -0.431513 -1.487278  0.530999   \n",
       "2013-01-09  1.411867 -0.169949  1.344469  0.963416  1.150087 -1.095934   \n",
       "\n",
       "                 C_y       D_y  \n",
       "2013-01-01 -1.042907 -1.132132  \n",
       "2013-01-03 -0.377082  0.061180  \n",
       "2013-01-05  0.998104  1.789551  \n",
       "2013-01-07  1.384645 -0.109054  \n",
       "2013-01-09  1.880805  0.609692  "
      ]
     },
     "execution_count": 9,
     "metadata": {},
     "output_type": "execute_result"
    }
   ],
   "source": [
    "# Solution\n",
    "resampled_data.merge(data,how='inner',right_index=True,left_index=True).head()"
   ]
  },
  {
   "cell_type": "markdown",
   "metadata": {},
   "source": [
    "### Exercise 1.6: There are several ways to perform actions on the dataframe columns. The dataframe has several columns containing negative values. For this exercise, find these negative values on a column, and create a new column with their absolute value, using a list comprehension, and after this, using a lambda function. You can use the magic timeit to see if there is a difference between these operations."
   ]
  },
  {
   "cell_type": "code",
   "execution_count": 10,
   "metadata": {},
   "outputs": [
    {
     "data": {
      "text/html": [
       "<div>\n",
       "<style scoped>\n",
       "    .dataframe tbody tr th:only-of-type {\n",
       "        vertical-align: middle;\n",
       "    }\n",
       "\n",
       "    .dataframe tbody tr th {\n",
       "        vertical-align: top;\n",
       "    }\n",
       "\n",
       "    .dataframe thead th {\n",
       "        text-align: right;\n",
       "    }\n",
       "</style>\n",
       "<table border=\"1\" class=\"dataframe\">\n",
       "  <thead>\n",
       "    <tr style=\"text-align: right;\">\n",
       "      <th></th>\n",
       "      <th>A</th>\n",
       "      <th>B</th>\n",
       "      <th>C</th>\n",
       "      <th>D</th>\n",
       "    </tr>\n",
       "  </thead>\n",
       "  <tbody>\n",
       "    <tr>\n",
       "      <th>2013-01-01</th>\n",
       "      <td>-0.119062</td>\n",
       "      <td>-1.255248</td>\n",
       "      <td>-1.042907</td>\n",
       "      <td>-1.132132</td>\n",
       "    </tr>\n",
       "    <tr>\n",
       "      <th>2013-01-02</th>\n",
       "      <td>1.208826</td>\n",
       "      <td>-1.088850</td>\n",
       "      <td>0.590667</td>\n",
       "      <td>-0.909385</td>\n",
       "    </tr>\n",
       "    <tr>\n",
       "      <th>2013-01-03</th>\n",
       "      <td>-1.311219</td>\n",
       "      <td>0.184445</td>\n",
       "      <td>-0.377082</td>\n",
       "      <td>0.061180</td>\n",
       "    </tr>\n",
       "    <tr>\n",
       "      <th>2013-01-04</th>\n",
       "      <td>0.276654</td>\n",
       "      <td>0.720240</td>\n",
       "      <td>-0.464948</td>\n",
       "      <td>0.051937</td>\n",
       "    </tr>\n",
       "    <tr>\n",
       "      <th>2013-01-05</th>\n",
       "      <td>-0.936258</td>\n",
       "      <td>0.785123</td>\n",
       "      <td>0.998104</td>\n",
       "      <td>1.789551</td>\n",
       "    </tr>\n",
       "  </tbody>\n",
       "</table>\n",
       "</div>"
      ],
      "text/plain": [
       "                   A         B         C         D\n",
       "2013-01-01 -0.119062 -1.255248 -1.042907 -1.132132\n",
       "2013-01-02  1.208826 -1.088850  0.590667 -0.909385\n",
       "2013-01-03 -1.311219  0.184445 -0.377082  0.061180\n",
       "2013-01-04  0.276654  0.720240 -0.464948  0.051937\n",
       "2013-01-05 -0.936258  0.785123  0.998104  1.789551"
      ]
     },
     "execution_count": 10,
     "metadata": {},
     "output_type": "execute_result"
    }
   ],
   "source": [
    "data.head()"
   ]
  },
  {
   "cell_type": "code",
   "execution_count": 11,
   "metadata": {},
   "outputs": [
    {
     "name": "stdout",
     "output_type": "stream",
     "text": [
      "274 µs ± 6.08 µs per loop (mean ± std. dev. of 7 runs, 1000 loops each)\n"
     ]
    },
    {
     "data": {
      "text/html": [
       "<div>\n",
       "<style scoped>\n",
       "    .dataframe tbody tr th:only-of-type {\n",
       "        vertical-align: middle;\n",
       "    }\n",
       "\n",
       "    .dataframe tbody tr th {\n",
       "        vertical-align: top;\n",
       "    }\n",
       "\n",
       "    .dataframe thead th {\n",
       "        text-align: right;\n",
       "    }\n",
       "</style>\n",
       "<table border=\"1\" class=\"dataframe\">\n",
       "  <thead>\n",
       "    <tr style=\"text-align: right;\">\n",
       "      <th></th>\n",
       "      <th>A</th>\n",
       "      <th>B</th>\n",
       "      <th>C</th>\n",
       "      <th>D</th>\n",
       "    </tr>\n",
       "  </thead>\n",
       "  <tbody>\n",
       "    <tr>\n",
       "      <th>2013-01-01</th>\n",
       "      <td>0.119062</td>\n",
       "      <td>-1.255248</td>\n",
       "      <td>-1.042907</td>\n",
       "      <td>-1.132132</td>\n",
       "    </tr>\n",
       "    <tr>\n",
       "      <th>2013-01-02</th>\n",
       "      <td>1.208826</td>\n",
       "      <td>-1.088850</td>\n",
       "      <td>0.590667</td>\n",
       "      <td>-0.909385</td>\n",
       "    </tr>\n",
       "    <tr>\n",
       "      <th>2013-01-03</th>\n",
       "      <td>1.311219</td>\n",
       "      <td>0.184445</td>\n",
       "      <td>-0.377082</td>\n",
       "      <td>0.061180</td>\n",
       "    </tr>\n",
       "    <tr>\n",
       "      <th>2013-01-04</th>\n",
       "      <td>0.276654</td>\n",
       "      <td>0.720240</td>\n",
       "      <td>-0.464948</td>\n",
       "      <td>0.051937</td>\n",
       "    </tr>\n",
       "    <tr>\n",
       "      <th>2013-01-05</th>\n",
       "      <td>0.936258</td>\n",
       "      <td>0.785123</td>\n",
       "      <td>0.998104</td>\n",
       "      <td>1.789551</td>\n",
       "    </tr>\n",
       "  </tbody>\n",
       "</table>\n",
       "</div>"
      ],
      "text/plain": [
       "                   A         B         C         D\n",
       "2013-01-01  0.119062 -1.255248 -1.042907 -1.132132\n",
       "2013-01-02  1.208826 -1.088850  0.590667 -0.909385\n",
       "2013-01-03  1.311219  0.184445 -0.377082  0.061180\n",
       "2013-01-04  0.276654  0.720240 -0.464948  0.051937\n",
       "2013-01-05  0.936258  0.785123  0.998104  1.789551"
      ]
     },
     "execution_count": 11,
     "metadata": {},
     "output_type": "execute_result"
    }
   ],
   "source": [
    "# Solution\n",
    "# method 1: list comprehension\n",
    "%timeit data.A = [abs(x) for x in data.A.tolist()]\n",
    "data.head()"
   ]
  },
  {
   "cell_type": "code",
   "execution_count": 12,
   "metadata": {},
   "outputs": [
    {
     "name": "stdout",
     "output_type": "stream",
     "text": [
      "711 µs ± 213 µs per loop (mean ± std. dev. of 7 runs, 1000 loops each)\n"
     ]
    },
    {
     "data": {
      "text/html": [
       "<div>\n",
       "<style scoped>\n",
       "    .dataframe tbody tr th:only-of-type {\n",
       "        vertical-align: middle;\n",
       "    }\n",
       "\n",
       "    .dataframe tbody tr th {\n",
       "        vertical-align: top;\n",
       "    }\n",
       "\n",
       "    .dataframe thead th {\n",
       "        text-align: right;\n",
       "    }\n",
       "</style>\n",
       "<table border=\"1\" class=\"dataframe\">\n",
       "  <thead>\n",
       "    <tr style=\"text-align: right;\">\n",
       "      <th></th>\n",
       "      <th>A</th>\n",
       "      <th>B</th>\n",
       "      <th>C</th>\n",
       "      <th>D</th>\n",
       "    </tr>\n",
       "  </thead>\n",
       "  <tbody>\n",
       "    <tr>\n",
       "      <th>2013-01-01</th>\n",
       "      <td>0.119062</td>\n",
       "      <td>1.255248</td>\n",
       "      <td>-1.042907</td>\n",
       "      <td>-1.132132</td>\n",
       "    </tr>\n",
       "    <tr>\n",
       "      <th>2013-01-02</th>\n",
       "      <td>1.208826</td>\n",
       "      <td>1.088850</td>\n",
       "      <td>0.590667</td>\n",
       "      <td>-0.909385</td>\n",
       "    </tr>\n",
       "    <tr>\n",
       "      <th>2013-01-03</th>\n",
       "      <td>1.311219</td>\n",
       "      <td>0.184445</td>\n",
       "      <td>-0.377082</td>\n",
       "      <td>0.061180</td>\n",
       "    </tr>\n",
       "    <tr>\n",
       "      <th>2013-01-04</th>\n",
       "      <td>0.276654</td>\n",
       "      <td>0.720240</td>\n",
       "      <td>-0.464948</td>\n",
       "      <td>0.051937</td>\n",
       "    </tr>\n",
       "    <tr>\n",
       "      <th>2013-01-05</th>\n",
       "      <td>0.936258</td>\n",
       "      <td>0.785123</td>\n",
       "      <td>0.998104</td>\n",
       "      <td>1.789551</td>\n",
       "    </tr>\n",
       "  </tbody>\n",
       "</table>\n",
       "</div>"
      ],
      "text/plain": [
       "                   A         B         C         D\n",
       "2013-01-01  0.119062  1.255248 -1.042907 -1.132132\n",
       "2013-01-02  1.208826  1.088850  0.590667 -0.909385\n",
       "2013-01-03  1.311219  0.184445 -0.377082  0.061180\n",
       "2013-01-04  0.276654  0.720240 -0.464948  0.051937\n",
       "2013-01-05  0.936258  0.785123  0.998104  1.789551"
      ]
     },
     "execution_count": 12,
     "metadata": {},
     "output_type": "execute_result"
    }
   ],
   "source": [
    "# Solution\n",
    "# method 2: lambda function\n",
    "%timeit data.B = data.B.apply(lambda x : abs(x))\n",
    "data.head()"
   ]
  },
  {
   "cell_type": "markdown",
   "metadata": {},
   "source": [
    "## Supervised learning using scikit-learn - Classification of MNIST data"
   ]
  },
  {
   "cell_type": "markdown",
   "metadata": {},
   "source": [
    "### Exercise 2.1: Download the digit ('MNIST original') dataset from  mldata.org, which is a public repository for machine learning data. Divide the data into training and testing. Please use 1/7 for training and the rest for testing. \n",
    "\n",
    "Hint: The sklearn.datasets package is able to directly download data sets from the repository using the function sklearn.datasets.fetch_mldata. Generate the training and testing set by importing train_test_split from sklearn.model_selection\n",
    "\n",
    " "
   ]
  },
  {
   "cell_type": "code",
   "execution_count": 13,
   "metadata": {},
   "outputs": [
    {
     "name": "stderr",
     "output_type": "stream",
     "text": [
      "/anaconda3/envs/ada/lib/python3.6/site-packages/sklearn/utils/deprecation.py:77: DeprecationWarning: Function fetch_mldata is deprecated; fetch_mldata was deprecated in version 0.20 and will be removed in version 0.22\n",
      "  warnings.warn(msg, category=DeprecationWarning)\n",
      "/anaconda3/envs/ada/lib/python3.6/site-packages/sklearn/utils/deprecation.py:77: DeprecationWarning: Function mldata_filename is deprecated; mldata_filename was deprecated in version 0.20 and will be removed in version 0.22\n",
      "  warnings.warn(msg, category=DeprecationWarning)\n"
     ]
    }
   ],
   "source": [
    "# Solution\n",
    "\n",
    "import sklearn \n",
    "from sklearn.datasets import fetch_mldata\n",
    "\n",
    "# Download the MNIST original dataset\n",
    "data = fetch_mldata(\"MNIST original\")\n",
    "X = data['data']\n",
    "y = data['target']\n",
    "\n",
    "# Split the images into training and testing\n",
    "from sklearn.model_selection import train_test_split\n",
    "X_train, X_test, y_train, y_test = train_test_split(X, y, test_size=6/7, random_state=42)"
   ]
  },
  {
   "cell_type": "markdown",
   "metadata": {
    "collapsed": true
   },
   "source": [
    "### Exercise 2.2: The optimal performance of many machine learning algorithms is affected by scale. Typically, you need to scale the features in your data before applying any algorithm. Normalize the data and plot some random images from the dataset.  \n",
    "\n",
    "Hint: Use StandardScaler from sklearn.preprocessing to help you standardize the dataset’s features onto unit scale (mean = 0 and variance = 1)\n",
    "\n"
   ]
  },
  {
   "cell_type": "code",
   "execution_count": 14,
   "metadata": {},
   "outputs": [],
   "source": [
    "# Solution\n",
    "\n",
    "from sklearn.preprocessing import StandardScaler\n",
    "scaler = StandardScaler()\n",
    "\n",
    "# Fit on training set only\n",
    "scaler.fit(X_train)\n",
    "\n",
    "# Apply transform to both the training set and the test set\n",
    "X_train = scaler.transform(X_train)\n",
    "X_test = scaler.transform(X_test)"
   ]
  },
  {
   "cell_type": "code",
   "execution_count": 15,
   "metadata": {},
   "outputs": [
    {
     "data": {
      "image/png": "[encoded data removed]",
      "text/plain": [
       "<Figure size 432x288 with 1 Axes>"
      ]
     },
     "metadata": {
      "needs_background": "light"
     },
     "output_type": "display_data"
    }
   ],
   "source": [
    "# Solution (Visualization)\n",
    "%matplotlib inline\n",
    "\n",
    "import matplotlib.pyplot as plt\n",
    "# 784 columns correspond to 28x28 image\n",
    "plottable_image = np.reshape(X_train[0], (28, 28))\n",
    "\n",
    "# Plot the image\n",
    "plt.imshow(plottable_image, cmap='gray_r')\n",
    "plt.title('Digit Label: {}'.format(y_train[0]))\n",
    "plt.show()"
   ]
  },
  {
   "cell_type": "markdown",
   "metadata": {},
   "source": [
    "### Exercise 2.3: Logistic regression is one of the simplest linear classification algorithms. Fit a logistic regression model to the training images. Compute the accuracy of the classifier on the test images, and the time needed to train the model.¶\n",
    "\n",
    "Hint: Use LogisticRegression from sklearn.linear_model. To increase speed, change the default solver to 'lbfgs'\n"
   ]
  },
  {
   "cell_type": "code",
   "execution_count": 16,
   "metadata": {},
   "outputs": [
    {
     "name": "stdout",
     "output_type": "stream",
     "text": [
      "The total time is 13.136800050735474 seconds \n",
      "Accuracy = 0.8852\n"
     ]
    }
   ],
   "source": [
    "# Solution\n",
    "\n",
    "from time import time\n",
    "from sklearn.linear_model import LogisticRegression\n",
    "from sklearn.metrics import accuracy_score\n",
    "\n",
    "tic = time()\n",
    "# Fit a linear regression model\n",
    "clf = LogisticRegression(solver = 'lbfgs',max_iter = 100)\n",
    "clf.fit(X_train,y_train)\n",
    "# Compute the classification score\n",
    "y_pred = clf.predict(X_test)\n",
    "accuracy = accuracy_score(y_test, y_pred)\n",
    "toc = time()\n",
    "print('The total time is %s seconds ' % (toc-tic))\n",
    "print('Accuracy =',accuracy)"
   ]
  },
  {
   "cell_type": "markdown",
   "metadata": {},
   "source": [
    "### Exercise 2.4: Apply Principle Component Analysis (PCA) to the training signals by keeping only (a) 25%, (b) 75%, and (c) 95% of the energy. For each of the three cases, output the number of the required principle components.Then, plot the Cumulative Explained Variance over PCA. Finally, choose a random image from the dataset, and show its approximation with the PCA components. \n",
    "\n",
    "Hint: For computing the Cumulative Explained Variance over PCA use:\n",
    "```\n",
    "pca.explained_variance_ratio_.cumsum()\n",
    "\n",
    "```"
   ]
  },
  {
   "cell_type": "code",
   "execution_count": 17,
   "metadata": {},
   "outputs": [],
   "source": [
    "# Solution \n",
    "from sklearn.decomposition import PCA\n",
    "\n",
    "# Fit a PCA model\n",
    "pca = PCA().fit(X)\n",
    "\n",
    "# Compute the number of PCA components\n",
    "total = pca.singular_values_.sum()\n",
    "sum = 0\n",
    "i = 0\n",
    "while sum < 0.25 *total :\n",
    "    sum += pca.singular_values_[i]\n",
    "    i+=1\n",
    "n_25 = i \n",
    "\n",
    "while sum < 0.75 *total :\n",
    "    sum += pca.singular_values_[i]\n",
    "    i+=1\n",
    "n_75 = i \n",
    "\n",
    "while sum < 0.95 *total :\n",
    "    sum += pca.singular_values_[i]\n",
    "    i+=1\n",
    "n_95 = i "
   ]
  },
  {
   "cell_type": "code",
   "execution_count": 18,
   "metadata": {},
   "outputs": [
    {
     "data": {
      "image/png": "[encoded data removed]",
      "text/plain": [
       "<Figure size 432x288 with 1 Axes>"
      ]
     },
     "metadata": {
      "needs_background": "light"
     },
     "output_type": "display_data"
    }
   ],
   "source": [
    "# Plot the Cumulative Explained Variance over PCA\n",
    "plt.plot(pca.explained_variance_ratio_.cumsum());"
   ]
  },
  {
   "cell_type": "code",
   "execution_count": 19,
   "metadata": {},
   "outputs": [],
   "source": [
    "pca_25 = PCA(n_components=n_25).fit(X)\n",
    "pca_75 = PCA(n_components=n_75).fit(X)\n",
    "pca_95 = PCA(n_components=n_95).fit(X)"
   ]
  },
  {
   "cell_type": "code",
   "execution_count": 20,
   "metadata": {
    "scrolled": true
   },
   "outputs": [],
   "source": [
    "def reshape_matrix(matrix):\n",
    "    a = matrix\n",
    "    n = int(np.ceil(np.sqrt(a.size))) # Dimension of smallest square matrix\n",
    "    b = np.zeros(n**2)\n",
    "    b[0:a.size] = a\n",
    "    return b.reshape(n,n)"
   ]
  },
  {
   "cell_type": "code",
   "execution_count": 21,
   "metadata": {},
   "outputs": [
    {
     "data": {
      "image/png": "[encoded data removed]",
      "text/plain": [
       "<Figure size 576x576 with 4 Axes>"
      ]
     },
     "metadata": {
      "needs_background": "light"
     },
     "output_type": "display_data"
    }
   ],
   "source": [
    "# Choose a random image from the dataset, and show its approximation with the PCA components\n",
    "\n",
    "plt.figure(figsize=(8,8));\n",
    "rand_num = random.randint(0, len(X)-1)\n",
    "# Original Image\n",
    "plt.subplot(2, 2, 1);\n",
    "plottable_image = np.reshape(X[rand_num], (28, 28))\n",
    "# Plot the image\n",
    "plt.imshow(plottable_image)\n",
    "plt.title('Digit Label: {}'.format(y[rand_num]))\n",
    "\n",
    "# Approximation\n",
    "plt.subplot(2, 2, 2);\n",
    "plottable_image = reshape_matrix(pca_25.transform(np.reshape(X[rand_num], (1,-1)))[0])\n",
    "# Plot the image\n",
    "plt.imshow(plottable_image)\n",
    "plt.title('Digit Label: {}'.format(y[rand_num]))\n",
    "\n",
    "plt.subplot(2, 2, 3);\n",
    "plottable_image = reshape_matrix(pca_75.transform(np.reshape(X[rand_num], (1,-1)))[0])\n",
    "# Plot the image\n",
    "plt.imshow(plottable_image)\n",
    "plt.title('Digit Label: {}'.format(y[rand_num]))\n",
    "\n",
    "plt.subplot(2, 2, 4);\n",
    "plottable_image = reshape_matrix(pca_95.transform(np.reshape(X[rand_num], (1,-1)))[0])\n",
    "# Plot the image\n",
    "plt.imshow(plottable_image)\n",
    "plt.title('Digit Label: {}'.format(y[rand_num]))\n",
    "plt.show()"
   ]
  },
  {
   "cell_type": "markdown",
   "metadata": {},
   "source": [
    "### Exercise 2.5: Fit a logistic regression model to the approximation of the training images with 95% of explained variance. Compute the accuracy of the classifier and the time needed to train the model. Compare it to the one obtained in 2.3. What do you observe? \n"
   ]
  },
  {
   "cell_type": "code",
   "execution_count": 22,
   "metadata": {},
   "outputs": [
    {
     "name": "stdout",
     "output_type": "stream",
     "text": [
      "The total time is 9.576600074768066 seconds \n",
      "Accuracy = 0.89635\n"
     ]
    }
   ],
   "source": [
    "# Solution\n",
    "X_to_test = pca_95.transform(X_test)\n",
    "X_to_train = pca_95.transform(X_train)\n",
    "tic = time()\n",
    "\n",
    "# Fit a logistic regression model on the PCA coefficients\n",
    "\n",
    "clf = LogisticRegression(solver = 'lbfgs',max_iter = 100)\n",
    "clf.fit(X_to_train,y_train)\n",
    "\n",
    "# Compute the classification score\n",
    "y_pred = clf.predict(X_to_test)\n",
    "accuracy = accuracy_score(y_test, y_pred)\n",
    "\n",
    "toc = time()\n",
    "print('The total time is %s seconds ' % (toc-tic))\n",
    "print('Accuracy =',accuracy)"
   ]
  },
  {
   "cell_type": "markdown",
   "metadata": {},
   "source": [
    "## Unsupervised learning with sklearn.cluster.KMeans()"
   ]
  },
  {
   "cell_type": "markdown",
   "metadata": {},
   "source": [
    "###  Exercise 3.1: Generate a set of 6 isotropic Gaussian blobs, with 1000 samples each. Each sample should have 60 features. \n",
    "\n",
    "Hint: Use the sklearn.datasets.make_blobs to generate the data"
   ]
  },
  {
   "cell_type": "code",
   "execution_count": 23,
   "metadata": {},
   "outputs": [],
   "source": [
    "# Solution\n",
    "\n",
    "from sklearn.cluster import KMeans\n",
    "from sklearn.datasets.samples_generator import make_blobs\n",
    "\n",
    "# Generate the data\n",
    "X, y = make_blobs(n_samples=1000, centers=6, n_features=60)"
   ]
  },
  {
   "cell_type": "markdown",
   "metadata": {},
   "source": [
    "###  Exercise 3.2: Apply PCA to the generated data. Store the first two principle components and their cluster index to a new dataframe.  Visualize the 6 blobs based only on these two components. "
   ]
  },
  {
   "cell_type": "code",
   "execution_count": 25,
   "metadata": {},
   "outputs": [
    {
     "data": {
      "image/png": "[encoded data removed]",
      "text/plain": [
       "<Figure size 648x288 with 1 Axes>"
      ]
     },
     "metadata": {
      "needs_background": "light"
     },
     "output_type": "display_data"
    }
   ],
   "source": [
    "# Solution\n",
    "\n",
    "# Fit PCA to the data\n",
    "pca_blob = PCA(n_components=2)\n",
    "pca_blob = pca_blob.fit(X)\n",
    "# Generate a new dataframe and store the first two Principle Components and the true cluster index\n",
    "X_transformed = pca_blob.transform(X)\n",
    "dataframe = pd.DataFrame(X_transformed)\n",
    "dataframe['y'] = y\n",
    "# Vizualize the data by plotting their representation on the two Principle Components (x and y axis)\n",
    "\n",
    "colors = np.array([[0.85, 0.85, 0], [0, 0.5, 0], [0.25, 0.25, 1],\n",
    "                  [0.3, 0.5,0.4], [0.7, 0.1, 0.3], [0.78, 0.15, 0.78]])\n",
    "\n",
    "plt.figure(figsize=(9, 4))\n",
    "plt.title(\"Blob Separation\")\n",
    "for i in np.arange(6):\n",
    "    plt.scatter(\n",
    "        dataframe[y == i][0],\n",
    "        dataframe[y == i][1],\n",
    "        c=colors[i],\n",
    "        alpha=0.5,\n",
    "        s=15,\n",
    "        lw=0,\n",
    "        label = 'blob '+str(i))\n",
    "plt.xlabel(\"feature 0\")\n",
    "plt.ylabel(\"Feaure 1\")\n",
    "plt.legend();"
   ]
  },
  {
   "cell_type": "markdown",
   "metadata": {},
   "source": [
    "### Exercise 3.3: Set the number of clusters to 6 and apply Kmeans clustering to the data. Compute the accuracy score between the true labels and the ones estimated by the Kmeans algorithm. "
   ]
  },
  {
   "cell_type": "code",
   "execution_count": 26,
   "metadata": {},
   "outputs": [
    {
     "data": {
      "text/plain": [
       "1.0"
      ]
     },
     "execution_count": 26,
     "metadata": {},
     "output_type": "execute_result"
    }
   ],
   "source": [
    "# Solution\n",
    "\n",
    "from sklearn.cluster import KMeans\n",
    "\n",
    "# Fit a Kmean model to the data\n",
    "y_kmeans = KMeans(n_clusters=6, random_state=0).fit_predict(X)\n",
    "\n",
    "from scipy.stats import mode\n",
    "\n",
    "# Uncomment this part to compute the accuracy score\n",
    "#  y_true: the true cluster index\n",
    "#  y_kmeans: the cluster index assigned by Kmeans\n",
    "\n",
    "y_true = y\n",
    "\n",
    "labels = np.zeros_like(y_true)\n",
    "for i in range(6):\n",
    "    mask = (y_kmeans == i)\n",
    "    labels[mask] = mode(y_true[mask])[0]\n",
    "    \n",
    "from sklearn.metrics import accuracy_score\n",
    "accuracy_score(y_true, labels)\n"
   ]
  },
  {
   "cell_type": "markdown",
   "metadata": {},
   "source": [
    "### Exercise 3.4: Do the same by clustering the data using only the first 2 principle components. What do you observe? "
   ]
  },
  {
   "cell_type": "code",
   "execution_count": 27,
   "metadata": {},
   "outputs": [
    {
     "data": {
      "text/plain": [
       "1.0"
      ]
     },
     "execution_count": 27,
     "metadata": {},
     "output_type": "execute_result"
    }
   ],
   "source": [
    "# Solution\n",
    "\n",
    "# Fit a Kmeans model to the first 2 PCA coefficients of the data\n",
    "y_kmeans = KMeans(n_clusters=6, random_state=0).fit_predict(dataframe[[0,1]])\n",
    "# Uncomment this part to compute the accuracy score\n",
    "# y_true: the true cluster index\n",
    "# y_kmeans: the cluster index assigned by Kmeans\n",
    "\n",
    "y_true = dataframe['y']\n",
    "\n",
    "labels = np.zeros_like(y_true)\n",
    "for i in range(6):\n",
    "    mask = (y_kmeans == i)\n",
    "    labels[mask] = mode(y_true[mask])[0]\n",
    "    \n",
    "accuracy_score(y_true, labels)\n"
   ]
  }
 ],
 "metadata": {
  "anaconda-cloud": {},
  "kernelspec": {
   "display_name": "Python [default]",
   "language": "python",
   "name": "python3"
  },
  "language_info": {
   "codemirror_mode": {
    "name": "ipython",
    "version": 3
   },
   "file_extension": ".py",
   "mimetype": "text/x-python",
   "name": "python",
   "nbconvert_exporter": "python",
   "pygments_lexer": "ipython3",
   "version": "3.6.6"
  },
  "toc": {
   "base_numbering": 1,
   "nav_menu": {},
   "number_sections": true,
   "sideBar": true,
   "skip_h1_title": false,
   "title_cell": "Table of Contents",
   "title_sidebar": "Contents",
   "toc_cell": false,
   "toc_position": {},
   "toc_section_display": true,
   "toc_window_display": false
  },
  "varInspector": {
   "cols": {
    "lenName": 16,
    "lenType": 16,
    "lenVar": 40
   },
   "kernels_config": {
    "python": {
     "delete_cmd_postfix": "",
     "delete_cmd_prefix": "del ",
     "library": "var_list.py",
     "varRefreshCmd": "print(var_dic_list())"
    },
    "r": {
     "delete_cmd_postfix": ") ",
     "delete_cmd_prefix": "rm(",
     "library": "var_list.r",
     "varRefreshCmd": "cat(var_dic_list()) "
    }
   },
   "types_to_exclude": [
    "module",
    "function",
    "builtin_function_or_method",
    "instance",
    "_Feature"
   ],
   "window_display": false
  }
 },
 "nbformat": 4,
 "nbformat_minor": 2
}
