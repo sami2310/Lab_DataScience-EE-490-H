{
 "cells": [
  {
   "cell_type": "markdown",
   "metadata": {},
   "source": [
    "## Generators"
   ]
  },
  {
   "cell_type": "markdown",
   "metadata": {},
   "source": [
    "### Exercise 1.1: Moving average"
   ]
  },
  {
   "cell_type": "markdown",
   "metadata": {},
   "source": [
    "Write a generator that computes the moving average over a list of values."
   ]
  },
  {
   "cell_type": "markdown",
   "metadata": {},
   "source": [
    "For example, let $v = [1, 2 ,3, 4]$ be a list of $4$ integers.\n",
    "The moving average $ma$ over $v$ is $ma = [1, \\frac{3}{2}, 2, \\frac{5}{2}]$."
   ]
  },
  {
   "cell_type": "code",
   "execution_count": 1,
   "metadata": {},
   "outputs": [],
   "source": [
    "v = [1,2,3,4]"
   ]
  },
  {
   "cell_type": "code",
   "execution_count": 2,
   "metadata": {},
   "outputs": [],
   "source": [
    "def moving_avg():\n",
    "    summation = 0\n",
    "    length = 0\n",
    "    while True: \n",
    "        if(length == 0):\n",
    "            term = yield summation\n",
    "        else:\n",
    "            term = yield summation/length\n",
    "        \n",
    "        length += 1\n",
    "#         print('length = ',length)\n",
    "        \n",
    "#         print('term = ',term)\n",
    "        \n",
    "        summation = summation + term\n",
    "#         print('avg = ',summation)"
   ]
  },
  {
   "cell_type": "code",
   "execution_count": 5,
   "metadata": {},
   "outputs": [
    {
     "name": "stdout",
     "output_type": "stream",
     "text": [
      "length =  1\n",
      "term =  1\n",
      "avg =  1\n",
      "length =  2\n",
      "term =  2\n",
      "avg =  3\n",
      "length =  3\n",
      "term =  3\n",
      "avg =  6\n",
      "length =  4\n",
      "term =  4\n",
      "avg =  10\n"
     ]
    },
    {
     "data": {
      "text/plain": [
       "[1.0, 1.5, 2.0, 2.5]"
      ]
     },
     "execution_count": 5,
     "metadata": {},
     "output_type": "execute_result"
    }
   ],
   "source": [
    "# Testing your function\n",
    "ma = moving_avg()\n",
    "next(ma)\n",
    "\n",
    "mavg = []\n",
    "for value in v:\n",
    "    mavg.append(ma.send(value))\n",
    "    \n",
    "mavg # Should print: [1.0, 1.5, 2.0, 2.5]"
   ]
  },
  {
   "cell_type": "markdown",
   "metadata": {},
   "source": [
    "## List comprehensions"
   ]
  },
  {
   "cell_type": "markdown",
   "metadata": {},
   "source": [
    "### Exercise 2.1: Unconditional comprehensions"
   ]
  },
  {
   "cell_type": "markdown",
   "metadata": {},
   "source": [
    "Write the following code as a comprehension\n",
    "```python\n",
    "v1 = [1, 2, 3, 4, 5]\n",
    "v2 = []\n",
    "\n",
    "for n in v1:\n",
    "    v2.append(n * 2)\n",
    "```"
   ]
  },
  {
   "cell_type": "code",
   "execution_count": 6,
   "metadata": {},
   "outputs": [],
   "source": [
    "v1 = [1, 2, 3, 4, 5]"
   ]
  },
  {
   "cell_type": "code",
   "execution_count": 7,
   "metadata": {},
   "outputs": [],
   "source": [
    "# Write your code here\n",
    "v2 = [ele *2 for ele in v1]\n"
   ]
  },
  {
   "cell_type": "code",
   "execution_count": 8,
   "metadata": {},
   "outputs": [
    {
     "data": {
      "text/plain": [
       "[2, 4, 6, 8, 10]"
      ]
     },
     "execution_count": 8,
     "metadata": {},
     "output_type": "execute_result"
    }
   ],
   "source": [
    "v2 # Should print: [2, 4, 6, 8, 10]"
   ]
  },
  {
   "cell_type": "markdown",
   "metadata": {},
   "source": [
    "### Exercise 2.2: Conditional comprehensions"
   ]
  },
  {
   "cell_type": "markdown",
   "metadata": {},
   "source": [
    "Let $v1$ be a list of integers from 0 to 99"
   ]
  },
  {
   "cell_type": "code",
   "execution_count": 9,
   "metadata": {},
   "outputs": [],
   "source": [
    "v1 = list(range(100))"
   ]
  },
  {
   "cell_type": "markdown",
   "metadata": {},
   "source": [
    "Write a single line of code to create $v2$ as a list of **squares** of all **even** elements of $v1$ "
   ]
  },
  {
   "cell_type": "code",
   "execution_count": 10,
   "metadata": {},
   "outputs": [],
   "source": [
    "# Write your code here\n",
    "\n",
    "v2 = [ele**2 for ele in v1 if ele%2 == 0]\n"
   ]
  },
  {
   "cell_type": "code",
   "execution_count": 11,
   "metadata": {},
   "outputs": [
    {
     "data": {
      "text/plain": [
       "[0,\n",
       " 4,\n",
       " 16,\n",
       " 36,\n",
       " 64,\n",
       " 100,\n",
       " 144,\n",
       " 196,\n",
       " 256,\n",
       " 324,\n",
       " 400,\n",
       " 484,\n",
       " 576,\n",
       " 676,\n",
       " 784,\n",
       " 900,\n",
       " 1024,\n",
       " 1156,\n",
       " 1296,\n",
       " 1444,\n",
       " 1600,\n",
       " 1764,\n",
       " 1936,\n",
       " 2116,\n",
       " 2304,\n",
       " 2500,\n",
       " 2704,\n",
       " 2916,\n",
       " 3136,\n",
       " 3364,\n",
       " 3600,\n",
       " 3844,\n",
       " 4096,\n",
       " 4356,\n",
       " 4624,\n",
       " 4900,\n",
       " 5184,\n",
       " 5476,\n",
       " 5776,\n",
       " 6084,\n",
       " 6400,\n",
       " 6724,\n",
       " 7056,\n",
       " 7396,\n",
       " 7744,\n",
       " 8100,\n",
       " 8464,\n",
       " 8836,\n",
       " 9216,\n",
       " 9604]"
      ]
     },
     "execution_count": 11,
     "metadata": {},
     "output_type": "execute_result"
    }
   ],
   "source": [
    "v2 # Should print: [0, 4, 16, 36, 64, 100, ... ]"
   ]
  },
  {
   "cell_type": "markdown",
   "metadata": {},
   "source": [
    "### Exercise 2.3: Approximate $\\Pi$"
   ]
  },
  {
   "cell_type": "markdown",
   "metadata": {},
   "source": [
    "Let $x$ and $y$ be random vectors of size $N$"
   ]
  },
  {
   "cell_type": "code",
   "execution_count": 12,
   "metadata": {},
   "outputs": [],
   "source": [
    "import random\n",
    "\n",
    "N = 100000\n",
    "\n",
    "x = [random.random() for a in range(N)]\n",
    "y = [random.random() for a in range(N)]"
   ]
  },
  {
   "cell_type": "markdown",
   "metadata": {},
   "source": [
    "Write a single line of code to approximate $\\Pi$ using the Monte Carlo method"
   ]
  },
  {
   "cell_type": "code",
   "execution_count": 13,
   "metadata": {},
   "outputs": [
    {
     "data": {
      "text/plain": [
       "3.14332"
      ]
     },
     "execution_count": 13,
     "metadata": {},
     "output_type": "execute_result"
    }
   ],
   "source": [
    "# Write your code here\n",
    "len([a for a in zip(x,y) if ((a[0]-0.5)**2 + (a[1]-0.5)**2)**(1/2) <= 0.5]) * 4/N"
   ]
  },
  {
   "cell_type": "markdown",
   "metadata": {},
   "source": [
    "###### Hint 1: $\\frac{\\Pi}{4} = \\frac{\\text{area of inscribed circle}}{\\text{area of rectangle}}$\n",
    "###### Hint 2: $\\text{Check out the zip() function}$"
   ]
  },
  {
   "cell_type": "markdown",
   "metadata": {},
   "source": [
    "## Lambda Operator and the functions map() and reduce()"
   ]
  },
  {
   "cell_type": "markdown",
   "metadata": {},
   "source": [
    "### Exercise 3.1: Approximate the exponential function"
   ]
  },
  {
   "cell_type": "markdown",
   "metadata": {},
   "source": [
    "Approximate the Maclaurin series for the exponential function at X with a polynomial of degree K "
   ]
  },
  {
   "cell_type": "markdown",
   "metadata": {},
   "source": [
    "Please use the map() & reduce() functions"
   ]
  },
  {
   "cell_type": "code",
   "execution_count": 14,
   "metadata": {},
   "outputs": [],
   "source": [
    "from functools import reduce\n",
    "from math import factorial\n",
    "import operator\n",
    "\n",
    "K = 10\n",
    "X = 4\n",
    "\n",
    "def evaluate_polynomial(a, x):\n",
    "    # Write your code here\n",
    "        # xi: [x^0, x^1, x^2, ..., x^(K-1)]\n",
    "        # axi: [a[0]*x^0, a[1]*x^1, ..., a[K-1]*x^(K-1)]\n",
    "        # return sum of axi\n",
    "    xi = list(map(lambda k: X**k, range(K)))\n",
    "    axi = list(map(lambda zipped: zipped[0]*zipped[1], zip(a, xi)))\n",
    "    return reduce((lambda x, y: x + y), axi)"
   ]
  },
  {
   "cell_type": "code",
   "execution_count": 15,
   "metadata": {},
   "outputs": [
    {
     "data": {
      "text/plain": [
       "54.15414462081129"
      ]
     },
     "execution_count": 15,
     "metadata": {},
     "output_type": "execute_result"
    }
   ],
   "source": [
    "evaluate_polynomial([1/factorial(x) for x in range(0, K)], X)\n",
    "# For K=10 and X=4, should print: 54.15414462081129"
   ]
  },
  {
   "cell_type": "markdown",
   "metadata": {},
   "source": [
    "## Lists of characters and the functions join() and append()"
   ]
  },
  {
   "cell_type": "markdown",
   "metadata": {
    "collapsed": true
   },
   "source": [
    "### Exercise 4.1: Smart password generator"
   ]
  },
  {
   "cell_type": "markdown",
   "metadata": {},
   "source": [
    "Write a function for generating a password of $N$ characters. Your password must have a **fair** number of lowercase letters, uppercase letters, and numbers. For example, if $N = 8$, you start filling out the list with 2 lowercase letters, 2 uppercase letters and 2 numbers. Then you complete the list with $N - 3*2$ lowercase letters."
   ]
  },
  {
   "cell_type": "markdown",
   "metadata": {},
   "source": [
    "Please use of the join(), append() and random.shuffle() functions."
   ]
  },
  {
   "cell_type": "code",
   "execution_count": 16,
   "metadata": {},
   "outputs": [
    {
     "name": "stdout",
     "output_type": "stream",
     "text": [
      "g5SefzC7\n"
     ]
    }
   ],
   "source": [
    "import random\n",
    "\n",
    "lowercase_letters = \"abcdefghijklmnopqrstuvwxyz\"\n",
    "uppercase_letters = lowercase_letters.upper()\n",
    "\n",
    "N = 8\n",
    "password = []\n",
    "\n",
    "# Add your code here\n",
    "# Get the number n (for the fairness of the password)\n",
    "n = N//3\n",
    "\n",
    "low_up_num = [lowercase_letters,uppercase_letters,[str(x) for x in range(10)]]\n",
    "\n",
    "# Select n from lowercase_letters, n from uppercase_letters and n numbers at random\n",
    "for table in low_up_num: \n",
    "    for _ in range(n):\n",
    "        password.append(table[random.randint(0, len(table)-1)])\n",
    "\n",
    "# Add the missing lowercase letters\n",
    "for _ in range(N - n *3):\n",
    "    password.append(lowercase_letters[random.randint(0, len(lowercase_letters)-1)])\n",
    "\n",
    "# Shuffle the password\n",
    "random.shuffle(password)\n",
    "password = ''.join(password)\n",
    "\n",
    "print(password)"
   ]
  }
 ],
 "metadata": {
  "kernelspec": {
   "display_name": "Python [conda env:anaconda3]",
   "language": "python",
   "name": "conda-env-anaconda3-py"
  },
  "language_info": {
   "codemirror_mode": {
    "name": "ipython",
    "version": 3
   },
   "file_extension": ".py",
   "mimetype": "text/x-python",
   "name": "python",
   "nbconvert_exporter": "python",
   "pygments_lexer": "ipython3",
   "version": "3.6.5"
  },
  "toc": {
   "base_numbering": 1,
   "nav_menu": {},
   "number_sections": false,
   "sideBar": true,
   "skip_h1_title": false,
   "title_cell": "Table of Contents",
   "title_sidebar": "Contents",
   "toc_cell": false,
   "toc_position": {
    "height": "calc(100% - 180px)",
    "left": "10px",
    "top": "150px",
    "width": "165px"
   },
   "toc_section_display": true,
   "toc_window_display": true
  },
  "varInspector": {
   "cols": {
    "lenName": 16,
    "lenType": 16,
    "lenVar": 40
   },
   "kernels_config": {
    "python": {
     "delete_cmd_postfix": "",
     "delete_cmd_prefix": "del ",
     "library": "var_list.py",
     "varRefreshCmd": "print(var_dic_list())"
    },
    "r": {
     "delete_cmd_postfix": ") ",
     "delete_cmd_prefix": "rm(",
     "library": "var_list.r",
     "varRefreshCmd": "cat(var_dic_list()) "
    }
   },
   "types_to_exclude": [
    "module",
    "function",
    "builtin_function_or_method",
    "instance",
    "_Feature"
   ],
   "window_display": false
  }
 },
 "nbformat": 4,
 "nbformat_minor": 2
}
