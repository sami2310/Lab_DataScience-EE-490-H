{
 "cells": [
  {
   "cell_type": "markdown",
   "metadata": {},
   "source": [
    "## Getting familiar with Pandas"
   ]
  },
  {
   "cell_type": "code",
   "execution_count": 1,
   "metadata": {},
   "outputs": [],
   "source": [
    "## Pandas \n",
    "# there are several ways to change a column in a dataframe\n",
    "# A short intro to pandas https://pandas.pydata.org/pandas-docs/stable/10min.html\n",
    "\n",
    "import pandas as pd\n",
    "import numpy as np\n",
    "import random"
   ]
  },
  {
   "cell_type": "code",
   "execution_count": 2,
   "metadata": {},
   "outputs": [],
   "source": [
    "# First step: make the dataframe\n",
    "dates = pd.date_range('20130101', '20140101') #366\n",
    "data = pd.DataFrame(np.random.randn(366,4), index=dates, columns=list('ABCD'))"
   ]
  },
  {
   "cell_type": "markdown",
   "metadata": {},
   "source": [
    "### Exercise 1.1: Inspect the dataframe with the following commands: head(), tail(), describe."
   ]
  },
  {
   "cell_type": "code",
   "execution_count": 3,
   "metadata": {},
   "outputs": [
    {
     "data": {
      "text/html": [
       "<div>\n",
       "<style scoped>\n",
       "    .dataframe tbody tr th:only-of-type {\n",
       "        vertical-align: middle;\n",
       "    }\n",
       "\n",
       "    .dataframe tbody tr th {\n",
       "        vertical-align: top;\n",
       "    }\n",
       "\n",
       "    .dataframe thead th {\n",
       "        text-align: right;\n",
       "    }\n",
       "</style>\n",
       "<table border=\"1\" class=\"dataframe\">\n",
       "  <thead>\n",
       "    <tr style=\"text-align: right;\">\n",
       "      <th></th>\n",
       "      <th>A</th>\n",
       "      <th>B</th>\n",
       "      <th>C</th>\n",
       "      <th>D</th>\n",
       "    </tr>\n",
       "  </thead>\n",
       "  <tbody>\n",
       "    <tr>\n",
       "      <th>count</th>\n",
       "      <td>366.000000</td>\n",
       "      <td>366.000000</td>\n",
       "      <td>366.000000</td>\n",
       "      <td>366.000000</td>\n",
       "    </tr>\n",
       "    <tr>\n",
       "      <th>mean</th>\n",
       "      <td>-0.036381</td>\n",
       "      <td>0.034370</td>\n",
       "      <td>0.119817</td>\n",
       "      <td>0.026848</td>\n",
       "    </tr>\n",
       "    <tr>\n",
       "      <th>std</th>\n",
       "      <td>1.011570</td>\n",
       "      <td>1.069676</td>\n",
       "      <td>1.037555</td>\n",
       "      <td>0.964123</td>\n",
       "    </tr>\n",
       "    <tr>\n",
       "      <th>min</th>\n",
       "      <td>-2.353734</td>\n",
       "      <td>-2.947034</td>\n",
       "      <td>-2.775677</td>\n",
       "      <td>-3.287903</td>\n",
       "    </tr>\n",
       "    <tr>\n",
       "      <th>25%</th>\n",
       "      <td>-0.690233</td>\n",
       "      <td>-0.638400</td>\n",
       "      <td>-0.577498</td>\n",
       "      <td>-0.536976</td>\n",
       "    </tr>\n",
       "    <tr>\n",
       "      <th>50%</th>\n",
       "      <td>0.008014</td>\n",
       "      <td>0.047850</td>\n",
       "      <td>0.103632</td>\n",
       "      <td>0.046690</td>\n",
       "    </tr>\n",
       "    <tr>\n",
       "      <th>75%</th>\n",
       "      <td>0.599405</td>\n",
       "      <td>0.723030</td>\n",
       "      <td>0.766632</td>\n",
       "      <td>0.564834</td>\n",
       "    </tr>\n",
       "    <tr>\n",
       "      <th>max</th>\n",
       "      <td>3.192566</td>\n",
       "      <td>3.196623</td>\n",
       "      <td>3.705185</td>\n",
       "      <td>2.505415</td>\n",
       "    </tr>\n",
       "  </tbody>\n",
       "</table>\n",
       "</div>"
      ],
      "text/plain": [
       "                A           B           C           D\n",
       "count  366.000000  366.000000  366.000000  366.000000\n",
       "mean    -0.036381    0.034370    0.119817    0.026848\n",
       "std      1.011570    1.069676    1.037555    0.964123\n",
       "min     -2.353734   -2.947034   -2.775677   -3.287903\n",
       "25%     -0.690233   -0.638400   -0.577498   -0.536976\n",
       "50%      0.008014    0.047850    0.103632    0.046690\n",
       "75%      0.599405    0.723030    0.766632    0.564834\n",
       "max      3.192566    3.196623    3.705185    2.505415"
      ]
     },
     "execution_count": 3,
     "metadata": {},
     "output_type": "execute_result"
    }
   ],
   "source": [
    "# Solution\n",
    "data.describe()"
   ]
  },
  {
   "cell_type": "code",
   "execution_count": 4,
   "metadata": {},
   "outputs": [
    {
     "data": {
      "text/html": [
       "<div>\n",
       "<style scoped>\n",
       "    .dataframe tbody tr th:only-of-type {\n",
       "        vertical-align: middle;\n",
       "    }\n",
       "\n",
       "    .dataframe tbody tr th {\n",
       "        vertical-align: top;\n",
       "    }\n",
       "\n",
       "    .dataframe thead th {\n",
       "        text-align: right;\n",
       "    }\n",
       "</style>\n",
       "<table border=\"1\" class=\"dataframe\">\n",
       "  <thead>\n",
       "    <tr style=\"text-align: right;\">\n",
       "      <th></th>\n",
       "      <th>A</th>\n",
       "      <th>B</th>\n",
       "      <th>C</th>\n",
       "      <th>D</th>\n",
       "    </tr>\n",
       "  </thead>\n",
       "  <tbody>\n",
       "    <tr>\n",
       "      <th>2013-01-01</th>\n",
       "      <td>-0.889781</td>\n",
       "      <td>0.854188</td>\n",
       "      <td>-0.422308</td>\n",
       "      <td>-0.084694</td>\n",
       "    </tr>\n",
       "    <tr>\n",
       "      <th>2013-01-02</th>\n",
       "      <td>0.275157</td>\n",
       "      <td>0.276746</td>\n",
       "      <td>0.404201</td>\n",
       "      <td>-0.902858</td>\n",
       "    </tr>\n",
       "    <tr>\n",
       "      <th>2013-01-03</th>\n",
       "      <td>1.084111</td>\n",
       "      <td>1.310438</td>\n",
       "      <td>1.034225</td>\n",
       "      <td>-1.893354</td>\n",
       "    </tr>\n",
       "    <tr>\n",
       "      <th>2013-01-04</th>\n",
       "      <td>-0.477575</td>\n",
       "      <td>-0.788139</td>\n",
       "      <td>-0.901730</td>\n",
       "      <td>-0.462532</td>\n",
       "    </tr>\n",
       "    <tr>\n",
       "      <th>2013-01-05</th>\n",
       "      <td>1.271058</td>\n",
       "      <td>0.785170</td>\n",
       "      <td>2.402065</td>\n",
       "      <td>-1.235721</td>\n",
       "    </tr>\n",
       "  </tbody>\n",
       "</table>\n",
       "</div>"
      ],
      "text/plain": [
       "                   A         B         C         D\n",
       "2013-01-01 -0.889781  0.854188 -0.422308 -0.084694\n",
       "2013-01-02  0.275157  0.276746  0.404201 -0.902858\n",
       "2013-01-03  1.084111  1.310438  1.034225 -1.893354\n",
       "2013-01-04 -0.477575 -0.788139 -0.901730 -0.462532\n",
       "2013-01-05  1.271058  0.785170  2.402065 -1.235721"
      ]
     },
     "execution_count": 4,
     "metadata": {},
     "output_type": "execute_result"
    }
   ],
   "source": [
    "data.head()"
   ]
  },
  {
   "cell_type": "code",
   "execution_count": 5,
   "metadata": {},
   "outputs": [
    {
     "data": {
      "text/html": [
       "<div>\n",
       "<style scoped>\n",
       "    .dataframe tbody tr th:only-of-type {\n",
       "        vertical-align: middle;\n",
       "    }\n",
       "\n",
       "    .dataframe tbody tr th {\n",
       "        vertical-align: top;\n",
       "    }\n",
       "\n",
       "    .dataframe thead th {\n",
       "        text-align: right;\n",
       "    }\n",
       "</style>\n",
       "<table border=\"1\" class=\"dataframe\">\n",
       "  <thead>\n",
       "    <tr style=\"text-align: right;\">\n",
       "      <th></th>\n",
       "      <th>A</th>\n",
       "      <th>B</th>\n",
       "      <th>C</th>\n",
       "      <th>D</th>\n",
       "    </tr>\n",
       "  </thead>\n",
       "  <tbody>\n",
       "    <tr>\n",
       "      <th>2013-12-28</th>\n",
       "      <td>0.671140</td>\n",
       "      <td>-1.280898</td>\n",
       "      <td>1.118919</td>\n",
       "      <td>-0.523506</td>\n",
       "    </tr>\n",
       "    <tr>\n",
       "      <th>2013-12-29</th>\n",
       "      <td>-0.593917</td>\n",
       "      <td>-0.025608</td>\n",
       "      <td>-1.087448</td>\n",
       "      <td>0.725363</td>\n",
       "    </tr>\n",
       "    <tr>\n",
       "      <th>2013-12-30</th>\n",
       "      <td>-1.558035</td>\n",
       "      <td>-0.318386</td>\n",
       "      <td>1.722074</td>\n",
       "      <td>0.735302</td>\n",
       "    </tr>\n",
       "    <tr>\n",
       "      <th>2013-12-31</th>\n",
       "      <td>1.374431</td>\n",
       "      <td>-0.570479</td>\n",
       "      <td>-0.548834</td>\n",
       "      <td>0.353702</td>\n",
       "    </tr>\n",
       "    <tr>\n",
       "      <th>2014-01-01</th>\n",
       "      <td>-0.540465</td>\n",
       "      <td>-0.950364</td>\n",
       "      <td>2.662130</td>\n",
       "      <td>-1.183609</td>\n",
       "    </tr>\n",
       "  </tbody>\n",
       "</table>\n",
       "</div>"
      ],
      "text/plain": [
       "                   A         B         C         D\n",
       "2013-12-28  0.671140 -1.280898  1.118919 -0.523506\n",
       "2013-12-29 -0.593917 -0.025608 -1.087448  0.725363\n",
       "2013-12-30 -1.558035 -0.318386  1.722074  0.735302\n",
       "2013-12-31  1.374431 -0.570479 -0.548834  0.353702\n",
       "2014-01-01 -0.540465 -0.950364  2.662130 -1.183609"
      ]
     },
     "execution_count": 5,
     "metadata": {},
     "output_type": "execute_result"
    }
   ],
   "source": [
    "data.tail()"
   ]
  },
  {
   "cell_type": "markdown",
   "metadata": {},
   "source": [
    "### Exercise 1.2:  The index is a time series, and pandas has a build-in command for re-sampling dataframes (documentation: https://pandas.pydata.org/pandas-docs/stable/generated/pandas.DataFrame.resample.html).  Use resample to get the median every 2 days and save this as a new dataframe."
   ]
  },
  {
   "cell_type": "code",
   "execution_count": 6,
   "metadata": {},
   "outputs": [
    {
     "data": {
      "text/html": [
       "<div>\n",
       "<style scoped>\n",
       "    .dataframe tbody tr th:only-of-type {\n",
       "        vertical-align: middle;\n",
       "    }\n",
       "\n",
       "    .dataframe tbody tr th {\n",
       "        vertical-align: top;\n",
       "    }\n",
       "\n",
       "    .dataframe thead th {\n",
       "        text-align: right;\n",
       "    }\n",
       "</style>\n",
       "<table border=\"1\" class=\"dataframe\">\n",
       "  <thead>\n",
       "    <tr style=\"text-align: right;\">\n",
       "      <th></th>\n",
       "      <th>A</th>\n",
       "      <th>B</th>\n",
       "      <th>C</th>\n",
       "      <th>D</th>\n",
       "    </tr>\n",
       "  </thead>\n",
       "  <tbody>\n",
       "    <tr>\n",
       "      <th>2013-01-01</th>\n",
       "      <td>-0.307312</td>\n",
       "      <td>0.565467</td>\n",
       "      <td>-0.009054</td>\n",
       "      <td>-0.493776</td>\n",
       "    </tr>\n",
       "    <tr>\n",
       "      <th>2013-01-03</th>\n",
       "      <td>0.303268</td>\n",
       "      <td>0.261150</td>\n",
       "      <td>0.066248</td>\n",
       "      <td>-1.177943</td>\n",
       "    </tr>\n",
       "    <tr>\n",
       "      <th>2013-01-05</th>\n",
       "      <td>0.334206</td>\n",
       "      <td>0.839019</td>\n",
       "      <td>1.357571</td>\n",
       "      <td>-0.543213</td>\n",
       "    </tr>\n",
       "    <tr>\n",
       "      <th>2013-01-07</th>\n",
       "      <td>-0.142962</td>\n",
       "      <td>-0.681733</td>\n",
       "      <td>-0.080323</td>\n",
       "      <td>0.026288</td>\n",
       "    </tr>\n",
       "    <tr>\n",
       "      <th>2013-01-09</th>\n",
       "      <td>0.025724</td>\n",
       "      <td>0.221684</td>\n",
       "      <td>-0.772663</td>\n",
       "      <td>-0.328429</td>\n",
       "    </tr>\n",
       "  </tbody>\n",
       "</table>\n",
       "</div>"
      ],
      "text/plain": [
       "                   A         B         C         D\n",
       "2013-01-01 -0.307312  0.565467 -0.009054 -0.493776\n",
       "2013-01-03  0.303268  0.261150  0.066248 -1.177943\n",
       "2013-01-05  0.334206  0.839019  1.357571 -0.543213\n",
       "2013-01-07 -0.142962 -0.681733 -0.080323  0.026288\n",
       "2013-01-09  0.025724  0.221684 -0.772663 -0.328429"
      ]
     },
     "execution_count": 6,
     "metadata": {},
     "output_type": "execute_result"
    }
   ],
   "source": [
    "#Solution: \n",
    "resampled_data =data.resample('2D').median()\n",
    "resampled_data.head()"
   ]
  },
  {
   "cell_type": "markdown",
   "metadata": {},
   "source": [
    "### Exercise 1.3: Inspect the new dataframe to see the difference in size compared to the inital dataframe."
   ]
  },
  {
   "cell_type": "code",
   "execution_count": 7,
   "metadata": {},
   "outputs": [
    {
     "data": {
      "text/html": [
       "<div>\n",
       "<style scoped>\n",
       "    .dataframe tbody tr th:only-of-type {\n",
       "        vertical-align: middle;\n",
       "    }\n",
       "\n",
       "    .dataframe tbody tr th {\n",
       "        vertical-align: top;\n",
       "    }\n",
       "\n",
       "    .dataframe thead th {\n",
       "        text-align: right;\n",
       "    }\n",
       "</style>\n",
       "<table border=\"1\" class=\"dataframe\">\n",
       "  <thead>\n",
       "    <tr style=\"text-align: right;\">\n",
       "      <th></th>\n",
       "      <th>A</th>\n",
       "      <th>B</th>\n",
       "      <th>C</th>\n",
       "      <th>D</th>\n",
       "    </tr>\n",
       "  </thead>\n",
       "  <tbody>\n",
       "    <tr>\n",
       "      <th>count</th>\n",
       "      <td>183.000000</td>\n",
       "      <td>183.000000</td>\n",
       "      <td>183.000000</td>\n",
       "      <td>183.000000</td>\n",
       "    </tr>\n",
       "    <tr>\n",
       "      <th>mean</th>\n",
       "      <td>-0.036381</td>\n",
       "      <td>0.034370</td>\n",
       "      <td>0.119817</td>\n",
       "      <td>0.026848</td>\n",
       "    </tr>\n",
       "    <tr>\n",
       "      <th>std</th>\n",
       "      <td>0.719483</td>\n",
       "      <td>0.799903</td>\n",
       "      <td>0.711247</td>\n",
       "      <td>0.667704</td>\n",
       "    </tr>\n",
       "    <tr>\n",
       "      <th>min</th>\n",
       "      <td>-1.765129</td>\n",
       "      <td>-1.853094</td>\n",
       "      <td>-1.819183</td>\n",
       "      <td>-1.542612</td>\n",
       "    </tr>\n",
       "    <tr>\n",
       "      <th>25%</th>\n",
       "      <td>-0.474632</td>\n",
       "      <td>-0.486688</td>\n",
       "      <td>-0.385589</td>\n",
       "      <td>-0.414920</td>\n",
       "    </tr>\n",
       "    <tr>\n",
       "      <th>50%</th>\n",
       "      <td>-0.139929</td>\n",
       "      <td>0.038673</td>\n",
       "      <td>0.075352</td>\n",
       "      <td>-0.014117</td>\n",
       "    </tr>\n",
       "    <tr>\n",
       "      <th>75%</th>\n",
       "      <td>0.430259</td>\n",
       "      <td>0.547386</td>\n",
       "      <td>0.585426</td>\n",
       "      <td>0.550285</td>\n",
       "    </tr>\n",
       "    <tr>\n",
       "      <th>max</th>\n",
       "      <td>2.721203</td>\n",
       "      <td>2.404576</td>\n",
       "      <td>2.477915</td>\n",
       "      <td>1.650828</td>\n",
       "    </tr>\n",
       "  </tbody>\n",
       "</table>\n",
       "</div>"
      ],
      "text/plain": [
       "                A           B           C           D\n",
       "count  183.000000  183.000000  183.000000  183.000000\n",
       "mean    -0.036381    0.034370    0.119817    0.026848\n",
       "std      0.719483    0.799903    0.711247    0.667704\n",
       "min     -1.765129   -1.853094   -1.819183   -1.542612\n",
       "25%     -0.474632   -0.486688   -0.385589   -0.414920\n",
       "50%     -0.139929    0.038673    0.075352   -0.014117\n",
       "75%      0.430259    0.547386    0.585426    0.550285\n",
       "max      2.721203    2.404576    2.477915    1.650828"
      ]
     },
     "execution_count": 7,
     "metadata": {},
     "output_type": "execute_result"
    }
   ],
   "source": [
    "#Solution: \n",
    "resampled_data.describe()"
   ]
  },
  {
   "cell_type": "markdown",
   "metadata": {},
   "source": [
    "### Exercise 1.4:  Write your new dataframe to a csv file."
   ]
  },
  {
   "cell_type": "code",
   "execution_count": 8,
   "metadata": {},
   "outputs": [],
   "source": [
    "#Solution: \n",
    "resampled_data.to_csv('resampled_data')"
   ]
  },
  {
   "cell_type": "markdown",
   "metadata": {},
   "source": [
    "### Exercise 1.5: Merge the two dataframes. There are several ways to do this, see also https://pandas.pydata.org/pandas-docs/stable/merging.html."
   ]
  },
  {
   "cell_type": "code",
   "execution_count": 9,
   "metadata": {},
   "outputs": [
    {
     "data": {
      "text/html": [
       "<div>\n",
       "<style scoped>\n",
       "    .dataframe tbody tr th:only-of-type {\n",
       "        vertical-align: middle;\n",
       "    }\n",
       "\n",
       "    .dataframe tbody tr th {\n",
       "        vertical-align: top;\n",
       "    }\n",
       "\n",
       "    .dataframe thead th {\n",
       "        text-align: right;\n",
       "    }\n",
       "</style>\n",
       "<table border=\"1\" class=\"dataframe\">\n",
       "  <thead>\n",
       "    <tr style=\"text-align: right;\">\n",
       "      <th></th>\n",
       "      <th>A_x</th>\n",
       "      <th>B_x</th>\n",
       "      <th>C_x</th>\n",
       "      <th>D_x</th>\n",
       "      <th>A_y</th>\n",
       "      <th>B_y</th>\n",
       "      <th>C_y</th>\n",
       "      <th>D_y</th>\n",
       "    </tr>\n",
       "  </thead>\n",
       "  <tbody>\n",
       "    <tr>\n",
       "      <th>2013-01-01</th>\n",
       "      <td>-0.307312</td>\n",
       "      <td>0.565467</td>\n",
       "      <td>-0.009054</td>\n",
       "      <td>-0.493776</td>\n",
       "      <td>-0.889781</td>\n",
       "      <td>0.854188</td>\n",
       "      <td>-0.422308</td>\n",
       "      <td>-0.084694</td>\n",
       "    </tr>\n",
       "    <tr>\n",
       "      <th>2013-01-03</th>\n",
       "      <td>0.303268</td>\n",
       "      <td>0.261150</td>\n",
       "      <td>0.066248</td>\n",
       "      <td>-1.177943</td>\n",
       "      <td>1.084111</td>\n",
       "      <td>1.310438</td>\n",
       "      <td>1.034225</td>\n",
       "      <td>-1.893354</td>\n",
       "    </tr>\n",
       "    <tr>\n",
       "      <th>2013-01-05</th>\n",
       "      <td>0.334206</td>\n",
       "      <td>0.839019</td>\n",
       "      <td>1.357571</td>\n",
       "      <td>-0.543213</td>\n",
       "      <td>1.271058</td>\n",
       "      <td>0.785170</td>\n",
       "      <td>2.402065</td>\n",
       "      <td>-1.235721</td>\n",
       "    </tr>\n",
       "    <tr>\n",
       "      <th>2013-01-07</th>\n",
       "      <td>-0.142962</td>\n",
       "      <td>-0.681733</td>\n",
       "      <td>-0.080323</td>\n",
       "      <td>0.026288</td>\n",
       "      <td>-0.558509</td>\n",
       "      <td>-0.124889</td>\n",
       "      <td>0.417077</td>\n",
       "      <td>0.114801</td>\n",
       "    </tr>\n",
       "    <tr>\n",
       "      <th>2013-01-09</th>\n",
       "      <td>0.025724</td>\n",
       "      <td>0.221684</td>\n",
       "      <td>-0.772663</td>\n",
       "      <td>-0.328429</td>\n",
       "      <td>0.224460</td>\n",
       "      <td>0.114252</td>\n",
       "      <td>0.229597</td>\n",
       "      <td>0.105428</td>\n",
       "    </tr>\n",
       "  </tbody>\n",
       "</table>\n",
       "</div>"
      ],
      "text/plain": [
       "                 A_x       B_x       C_x       D_x       A_y       B_y  \\\n",
       "2013-01-01 -0.307312  0.565467 -0.009054 -0.493776 -0.889781  0.854188   \n",
       "2013-01-03  0.303268  0.261150  0.066248 -1.177943  1.084111  1.310438   \n",
       "2013-01-05  0.334206  0.839019  1.357571 -0.543213  1.271058  0.785170   \n",
       "2013-01-07 -0.142962 -0.681733 -0.080323  0.026288 -0.558509 -0.124889   \n",
       "2013-01-09  0.025724  0.221684 -0.772663 -0.328429  0.224460  0.114252   \n",
       "\n",
       "                 C_y       D_y  \n",
       "2013-01-01 -0.422308 -0.084694  \n",
       "2013-01-03  1.034225 -1.893354  \n",
       "2013-01-05  2.402065 -1.235721  \n",
       "2013-01-07  0.417077  0.114801  \n",
       "2013-01-09  0.229597  0.105428  "
      ]
     },
     "execution_count": 9,
     "metadata": {},
     "output_type": "execute_result"
    }
   ],
   "source": [
    "# Solution\n",
    "resampled_data.merge(data,how='inner',right_index=True,left_index=True).head()"
   ]
  },
  {
   "cell_type": "markdown",
   "metadata": {},
   "source": [
    "### Exercise 1.6: There are several ways to perform actions on the dataframe columns. The dataframe has several columns containing negative values. For this exercise, find these negative values on a column, and create a new column with their absolute value, using a list comprehension, and after this, using a lambda function. You can use the magic timeit to see if there is a difference between these operations."
   ]
  },
  {
   "cell_type": "code",
   "execution_count": 10,
   "metadata": {},
   "outputs": [
    {
     "data": {
      "text/html": [
       "<div>\n",
       "<style scoped>\n",
       "    .dataframe tbody tr th:only-of-type {\n",
       "        vertical-align: middle;\n",
       "    }\n",
       "\n",
       "    .dataframe tbody tr th {\n",
       "        vertical-align: top;\n",
       "    }\n",
       "\n",
       "    .dataframe thead th {\n",
       "        text-align: right;\n",
       "    }\n",
       "</style>\n",
       "<table border=\"1\" class=\"dataframe\">\n",
       "  <thead>\n",
       "    <tr style=\"text-align: right;\">\n",
       "      <th></th>\n",
       "      <th>A</th>\n",
       "      <th>B</th>\n",
       "      <th>C</th>\n",
       "      <th>D</th>\n",
       "    </tr>\n",
       "  </thead>\n",
       "  <tbody>\n",
       "    <tr>\n",
       "      <th>2013-01-01</th>\n",
       "      <td>-0.889781</td>\n",
       "      <td>0.854188</td>\n",
       "      <td>-0.422308</td>\n",
       "      <td>-0.084694</td>\n",
       "    </tr>\n",
       "    <tr>\n",
       "      <th>2013-01-02</th>\n",
       "      <td>0.275157</td>\n",
       "      <td>0.276746</td>\n",
       "      <td>0.404201</td>\n",
       "      <td>-0.902858</td>\n",
       "    </tr>\n",
       "    <tr>\n",
       "      <th>2013-01-03</th>\n",
       "      <td>1.084111</td>\n",
       "      <td>1.310438</td>\n",
       "      <td>1.034225</td>\n",
       "      <td>-1.893354</td>\n",
       "    </tr>\n",
       "    <tr>\n",
       "      <th>2013-01-04</th>\n",
       "      <td>-0.477575</td>\n",
       "      <td>-0.788139</td>\n",
       "      <td>-0.901730</td>\n",
       "      <td>-0.462532</td>\n",
       "    </tr>\n",
       "    <tr>\n",
       "      <th>2013-01-05</th>\n",
       "      <td>1.271058</td>\n",
       "      <td>0.785170</td>\n",
       "      <td>2.402065</td>\n",
       "      <td>-1.235721</td>\n",
       "    </tr>\n",
       "  </tbody>\n",
       "</table>\n",
       "</div>"
      ],
      "text/plain": [
       "                   A         B         C         D\n",
       "2013-01-01 -0.889781  0.854188 -0.422308 -0.084694\n",
       "2013-01-02  0.275157  0.276746  0.404201 -0.902858\n",
       "2013-01-03  1.084111  1.310438  1.034225 -1.893354\n",
       "2013-01-04 -0.477575 -0.788139 -0.901730 -0.462532\n",
       "2013-01-05  1.271058  0.785170  2.402065 -1.235721"
      ]
     },
     "execution_count": 10,
     "metadata": {},
     "output_type": "execute_result"
    }
   ],
   "source": [
    "data.head()"
   ]
  },
  {
   "cell_type": "code",
   "execution_count": 11,
   "metadata": {},
   "outputs": [
    {
     "name": "stdout",
     "output_type": "stream",
     "text": [
      "318 µs ± 28.1 µs per loop (mean ± std. dev. of 7 runs, 1000 loops each)\n"
     ]
    },
    {
     "data": {
      "text/html": [
       "<div>\n",
       "<style scoped>\n",
       "    .dataframe tbody tr th:only-of-type {\n",
       "        vertical-align: middle;\n",
       "    }\n",
       "\n",
       "    .dataframe tbody tr th {\n",
       "        vertical-align: top;\n",
       "    }\n",
       "\n",
       "    .dataframe thead th {\n",
       "        text-align: right;\n",
       "    }\n",
       "</style>\n",
       "<table border=\"1\" class=\"dataframe\">\n",
       "  <thead>\n",
       "    <tr style=\"text-align: right;\">\n",
       "      <th></th>\n",
       "      <th>A</th>\n",
       "      <th>B</th>\n",
       "      <th>C</th>\n",
       "      <th>D</th>\n",
       "    </tr>\n",
       "  </thead>\n",
       "  <tbody>\n",
       "    <tr>\n",
       "      <th>2013-01-01</th>\n",
       "      <td>0.889781</td>\n",
       "      <td>0.854188</td>\n",
       "      <td>-0.422308</td>\n",
       "      <td>-0.084694</td>\n",
       "    </tr>\n",
       "    <tr>\n",
       "      <th>2013-01-02</th>\n",
       "      <td>0.275157</td>\n",
       "      <td>0.276746</td>\n",
       "      <td>0.404201</td>\n",
       "      <td>-0.902858</td>\n",
       "    </tr>\n",
       "    <tr>\n",
       "      <th>2013-01-03</th>\n",
       "      <td>1.084111</td>\n",
       "      <td>1.310438</td>\n",
       "      <td>1.034225</td>\n",
       "      <td>-1.893354</td>\n",
       "    </tr>\n",
       "    <tr>\n",
       "      <th>2013-01-04</th>\n",
       "      <td>0.477575</td>\n",
       "      <td>-0.788139</td>\n",
       "      <td>-0.901730</td>\n",
       "      <td>-0.462532</td>\n",
       "    </tr>\n",
       "    <tr>\n",
       "      <th>2013-01-05</th>\n",
       "      <td>1.271058</td>\n",
       "      <td>0.785170</td>\n",
       "      <td>2.402065</td>\n",
       "      <td>-1.235721</td>\n",
       "    </tr>\n",
       "  </tbody>\n",
       "</table>\n",
       "</div>"
      ],
      "text/plain": [
       "                   A         B         C         D\n",
       "2013-01-01  0.889781  0.854188 -0.422308 -0.084694\n",
       "2013-01-02  0.275157  0.276746  0.404201 -0.902858\n",
       "2013-01-03  1.084111  1.310438  1.034225 -1.893354\n",
       "2013-01-04  0.477575 -0.788139 -0.901730 -0.462532\n",
       "2013-01-05  1.271058  0.785170  2.402065 -1.235721"
      ]
     },
     "execution_count": 11,
     "metadata": {},
     "output_type": "execute_result"
    }
   ],
   "source": [
    "# Solution\n",
    "# method 1: list comprehension\n",
    "%timeit data.A = [abs(x) for x in data.A.tolist()]\n",
    "data.head()"
   ]
  },
  {
   "cell_type": "code",
   "execution_count": 12,
   "metadata": {},
   "outputs": [
    {
     "name": "stdout",
     "output_type": "stream",
     "text": [
      "563 µs ± 79.4 µs per loop (mean ± std. dev. of 7 runs, 1000 loops each)\n"
     ]
    },
    {
     "data": {
      "text/html": [
       "<div>\n",
       "<style scoped>\n",
       "    .dataframe tbody tr th:only-of-type {\n",
       "        vertical-align: middle;\n",
       "    }\n",
       "\n",
       "    .dataframe tbody tr th {\n",
       "        vertical-align: top;\n",
       "    }\n",
       "\n",
       "    .dataframe thead th {\n",
       "        text-align: right;\n",
       "    }\n",
       "</style>\n",
       "<table border=\"1\" class=\"dataframe\">\n",
       "  <thead>\n",
       "    <tr style=\"text-align: right;\">\n",
       "      <th></th>\n",
       "      <th>A</th>\n",
       "      <th>B</th>\n",
       "      <th>C</th>\n",
       "      <th>D</th>\n",
       "    </tr>\n",
       "  </thead>\n",
       "  <tbody>\n",
       "    <tr>\n",
       "      <th>2013-01-01</th>\n",
       "      <td>0.889781</td>\n",
       "      <td>0.854188</td>\n",
       "      <td>-0.422308</td>\n",
       "      <td>-0.084694</td>\n",
       "    </tr>\n",
       "    <tr>\n",
       "      <th>2013-01-02</th>\n",
       "      <td>0.275157</td>\n",
       "      <td>0.276746</td>\n",
       "      <td>0.404201</td>\n",
       "      <td>-0.902858</td>\n",
       "    </tr>\n",
       "    <tr>\n",
       "      <th>2013-01-03</th>\n",
       "      <td>1.084111</td>\n",
       "      <td>1.310438</td>\n",
       "      <td>1.034225</td>\n",
       "      <td>-1.893354</td>\n",
       "    </tr>\n",
       "    <tr>\n",
       "      <th>2013-01-04</th>\n",
       "      <td>0.477575</td>\n",
       "      <td>0.788139</td>\n",
       "      <td>-0.901730</td>\n",
       "      <td>-0.462532</td>\n",
       "    </tr>\n",
       "    <tr>\n",
       "      <th>2013-01-05</th>\n",
       "      <td>1.271058</td>\n",
       "      <td>0.785170</td>\n",
       "      <td>2.402065</td>\n",
       "      <td>-1.235721</td>\n",
       "    </tr>\n",
       "  </tbody>\n",
       "</table>\n",
       "</div>"
      ],
      "text/plain": [
       "                   A         B         C         D\n",
       "2013-01-01  0.889781  0.854188 -0.422308 -0.084694\n",
       "2013-01-02  0.275157  0.276746  0.404201 -0.902858\n",
       "2013-01-03  1.084111  1.310438  1.034225 -1.893354\n",
       "2013-01-04  0.477575  0.788139 -0.901730 -0.462532\n",
       "2013-01-05  1.271058  0.785170  2.402065 -1.235721"
      ]
     },
     "execution_count": 12,
     "metadata": {},
     "output_type": "execute_result"
    }
   ],
   "source": [
    "# Solution\n",
    "# method 2: lambda function\n",
    "%timeit data.B = data.B.apply(lambda x : abs(x))\n",
    "data.head()"
   ]
  },
  {
   "cell_type": "markdown",
   "metadata": {},
   "source": [
    "## Supervised learning using scikit-learn - Classification of MNIST data"
   ]
  },
  {
   "cell_type": "markdown",
   "metadata": {},
   "source": [
    "### Exercise 2.1: Download the digit ('MNIST original') dataset from  mldata.org, which is a public repository for machine learning data. Divide the data into training and testing. Please use 1/7 for training and the rest for testing. \n",
    "\n",
    "Hint: The sklearn.datasets package is able to directly download data sets from the repository using the function sklearn.datasets.fetch_mldata. Generate the training and testing set by importing train_test_split from sklearn.model_selection\n",
    "\n",
    " "
   ]
  },
  {
   "cell_type": "code",
   "execution_count": 19,
   "metadata": {},
   "outputs": [
    {
     "name": "stderr",
     "output_type": "stream",
     "text": [
      "/anaconda3/envs/ada/lib/python3.6/site-packages/sklearn/utils/deprecation.py:77: DeprecationWarning: Function fetch_mldata is deprecated; fetch_mldata was deprecated in version 0.20 and will be removed in version 0.22\n",
      "  warnings.warn(msg, category=DeprecationWarning)\n",
      "/anaconda3/envs/ada/lib/python3.6/site-packages/sklearn/utils/deprecation.py:77: DeprecationWarning: Function mldata_filename is deprecated; mldata_filename was deprecated in version 0.20 and will be removed in version 0.22\n",
      "  warnings.warn(msg, category=DeprecationWarning)\n"
     ]
    }
   ],
   "source": [
    "# Solution\n",
    "\n",
    "import sklearn \n",
    "from sklearn.datasets import fetch_mldata\n",
    "\n",
    "# Download the MNIST original dataset\n",
    "data = fetch_mldata(\"MNIST original\")\n",
    "X = data['data']\n",
    "y = data['target']\n",
    "\n",
    "# Split the images into training and testing\n",
    "from sklearn.model_selection import train_test_split\n",
    "X_train, X_test, y_train, y_test = train_test_split(X, y, test_size=1/7, random_state=42)"
   ]
  },
  {
   "cell_type": "markdown",
   "metadata": {
    "collapsed": true
   },
   "source": [
    "### Exercise 2.2: The optimal performance of many machine learning algorithms is affected by scale. Typically, you need to scale the features in your data before applying any algorithm. Normalize the data and plot some random images from the dataset.  \n",
    "\n",
    "Hint: Use StandardScaler from sklearn.preprocessing to help you standardize the dataset’s features onto unit scale (mean = 0 and variance = 1)\n",
    "\n"
   ]
  },
  {
   "cell_type": "code",
   "execution_count": 21,
   "metadata": {},
   "outputs": [
    {
     "name": "stderr",
     "output_type": "stream",
     "text": [
      "/anaconda3/envs/ada/lib/python3.6/site-packages/sklearn/utils/validation.py:590: DataConversionWarning: Data with input dtype uint8 was converted to float64 by StandardScaler.\n",
      "  warnings.warn(msg, DataConversionWarning)\n",
      "/anaconda3/envs/ada/lib/python3.6/site-packages/sklearn/utils/validation.py:590: DataConversionWarning: Data with input dtype uint8 was converted to float64 by StandardScaler.\n",
      "  warnings.warn(msg, DataConversionWarning)\n",
      "/anaconda3/envs/ada/lib/python3.6/site-packages/sklearn/utils/validation.py:590: DataConversionWarning: Data with input dtype uint8 was converted to float64 by StandardScaler.\n",
      "  warnings.warn(msg, DataConversionWarning)\n"
     ]
    }
   ],
   "source": [
    "# Solution\n",
    "\n",
    "from sklearn.preprocessing import StandardScaler\n",
    "scaler = StandardScaler()\n",
    "\n",
    "# Fit on training set only\n",
    "scaler.fit(X_train)\n",
    "\n",
    "# Apply transform to both the training set and the test set\n",
    "X_train = scaler.transform(X_train)\n",
    "X_test = scaler.transform(X_test)"
   ]
  },
  {
   "cell_type": "code",
   "execution_count": 23,
   "metadata": {},
   "outputs": [
    {
     "data": {
      "image/png": "[encoded data removed]",
      "text/plain": [
       "<Figure size 432x288 with 1 Axes>"
      ]
     },
     "metadata": {
      "needs_background": "light"
     },
     "output_type": "display_data"
    }
   ],
   "source": [
    "# Solution (Visualization)\n",
    "%matplotlib inline\n",
    "\n",
    "import matplotlib.pyplot as plt\n",
    "# 784 columns correspond to 28x28 image\n",
    "plottable_image = np.reshape(X_train[0], (28, 28))\n",
    "\n",
    "# Plot the image\n",
    "plt.imshow(plottable_image, cmap='gray_r')\n",
    "plt.title('Digit Label: {}'.format(y_train[0]))\n",
    "plt.show()"
   ]
  },
  {
   "cell_type": "markdown",
   "metadata": {},
   "source": [
    "### Exercise 2.3: Logistic regression is one of the simplest linear classification algorithms. Fit a logistic regression model to the training images. Compute the accuracy of the classifier on the test images, and the time needed to train the model.¶\n",
    "\n",
    "Hint: Use LogisticRegression from sklearn.linear_model. To increase speed, change the default solver to 'lbfgs'\n"
   ]
  },
  {
   "cell_type": "code",
   "execution_count": null,
   "metadata": {
    "collapsed": true
   },
   "outputs": [],
   "source": [
    "# Solution\n",
    "\n",
    "from time import time\n",
    "from sklearn.linear_model import LogisticRegression\n",
    "\n",
    "tic = time()\n",
    "# Fit a linear regression model\n",
    "\n",
    "# Compute the classification score\n",
    "\n",
    "toc = time()\n",
    "print('The total time is %s seconds ' % (toc-tic))\n"
   ]
  },
  {
   "cell_type": "markdown",
   "metadata": {},
   "source": [
    "### Exercise 2.4: Apply Principle Component Analysis (PCA) to the training signals by keeping only (a) 25%, (b) 75%, and (c) 95% of the energy. For each of the three cases, output the number of the required principle components.Then, plot the Cumulative Explained Variance over PCA. Finally, choose a random image from the dataset, and show its approximation with the PCA components. \n",
    "\n",
    "Hint: For computing the Cumulative Explained Variance over PCA use:\n",
    "```\n",
    "pca.explained_variance_ratio_.cumsum()\n",
    "\n",
    "```"
   ]
  },
  {
   "cell_type": "code",
   "execution_count": null,
   "metadata": {
    "collapsed": true
   },
   "outputs": [],
   "source": [
    "# Solution \n",
    "from sklearn.decomposition import PCA\n",
    "\n",
    "# Fit a PCA model\n",
    "\n",
    "# Compute the number of PCA components\n"
   ]
  },
  {
   "cell_type": "code",
   "execution_count": null,
   "metadata": {
    "collapsed": true
   },
   "outputs": [],
   "source": [
    "# Plot the Cumulative Explained Variance over PCA\n"
   ]
  },
  {
   "cell_type": "code",
   "execution_count": null,
   "metadata": {
    "collapsed": true
   },
   "outputs": [],
   "source": [
    "# Choose a random image from the dataset, and show its approximation with the PCA components\n",
    "\n",
    "plt.figure(figsize=(8,4));\n",
    "\n",
    "# Original Image\n",
    "plt.subplot(1, 2, 1);\n",
    "\n",
    "# Approximation\n",
    "plt.subplot(1, 2, 2);\n"
   ]
  },
  {
   "cell_type": "markdown",
   "metadata": {},
   "source": [
    "### Exercise 2.5: Fit a logistic regression model to the approximation of the training images with 95% of explained variance. Compute the accuracy of the classifier and the time needed to train the model. Compare it to the one obtained in 2.3. What do you observe? \n"
   ]
  },
  {
   "cell_type": "code",
   "execution_count": null,
   "metadata": {
    "collapsed": true
   },
   "outputs": [],
   "source": [
    "# Solution\n",
    "\n",
    "tic = time()\n",
    "\n",
    "# Fit a logistic regression model on the PCA coefficients\n",
    "\n",
    "toc = time()\n",
    "\n",
    "print('The total time is %s seconds' % (toc-tic))\n"
   ]
  },
  {
   "cell_type": "markdown",
   "metadata": {},
   "source": [
    "## Unsupervised learning with sklearn.cluster.KMeans()"
   ]
  },
  {
   "cell_type": "markdown",
   "metadata": {},
   "source": [
    "###  Exercise 3.1: Generate a set of 6 isotropic Gaussian blobs, with 1000 samples each. Each sample should have 60 features. \n",
    "\n",
    "Hint: Use the sklearn.datasets.make_blobs to generate the data"
   ]
  },
  {
   "cell_type": "code",
   "execution_count": null,
   "metadata": {
    "collapsed": true
   },
   "outputs": [],
   "source": [
    "# Solution\n",
    "\n",
    "from sklearn.cluster import KMeans\n",
    "from sklearn.datasets.samples_generator import make_blobs\n",
    "\n",
    "# Generate the data\n"
   ]
  },
  {
   "cell_type": "markdown",
   "metadata": {},
   "source": [
    "###  Exercise 3.2: Apply PCA to the generated data. Store the first two principle components and their cluster index to a new dataframe.  Visualize the 6 blobs based only on these two components. "
   ]
  },
  {
   "cell_type": "code",
   "execution_count": null,
   "metadata": {
    "collapsed": true
   },
   "outputs": [],
   "source": [
    "# Solution\n",
    "\n",
    "# Fit PCA to the data\n",
    "\n",
    "# Generate a new dataframe and store the first two Principle Components and the true cluster index\n",
    "\n",
    "# Vizualize the data by plotting their representation on the two Principle Components (x and y axis)\n"
   ]
  },
  {
   "cell_type": "markdown",
   "metadata": {},
   "source": [
    "### Exercise 3.3: Set the number of clusters to 6 and apply Kmeans clustering to the data. Compute the accuracy score between the true labels and the ones estimated by the Kmeans algorithm. "
   ]
  },
  {
   "cell_type": "code",
   "execution_count": null,
   "metadata": {
    "collapsed": true
   },
   "outputs": [],
   "source": [
    "# Solution\n",
    "\n",
    "from sklearn.cluster import KMeans\n",
    "\n",
    "# Fit a Kmean model to the data\n",
    "\n",
    "from scipy.stats import mode\n",
    "\n",
    "# Uncomment this part to compute the accuracy score\n",
    "#  y_true: the true cluster index\n",
    "#  y_kmeans: the cluster index assigned by Kmeans\n",
    "\n",
    "\"\"\"\n",
    "labels = np.zeros_like(y_true)\n",
    "for i in range(6):\n",
    "    mask = (y_kmeans == i)\n",
    "    labels[mask] = mode(y_true[mask])[0]\n",
    "    \n",
    "from sklearn.metrics import accuracy_score\n",
    "accuracy_score(y_true, labels)\n",
    "\"\"\"\n"
   ]
  },
  {
   "cell_type": "markdown",
   "metadata": {},
   "source": [
    "### Exercise 3.4: Do the same by clustering the data using only the first 2 principle components. What do you observe? "
   ]
  },
  {
   "cell_type": "code",
   "execution_count": null,
   "metadata": {
    "collapsed": true
   },
   "outputs": [],
   "source": [
    "# Solution\n",
    "\n",
    "# Fit a Kmeans model to the first 2 PCA coefficients of the data\n",
    "\n",
    "# Uncomment this part to compute the accuracy score\n",
    "# y_true: the true cluster index\n",
    "# y_kmeans: the cluster index assigned by Kmeans\n",
    "\n",
    "\"\"\"\n",
    "labels = np.zeros_like(y_true)\n",
    "for i in range(6):\n",
    "    mask = (y_kmeans == i)\n",
    "    labels[mask] = mode(y_true[mask])[0]\n",
    "    \n",
    "accuracy_score(y_true, labels)\n",
    "\"\"\"\n"
   ]
  }
 ],
 "metadata": {
  "anaconda-cloud": {},
  "kernelspec": {
   "display_name": "Python [default]",
   "language": "python",
   "name": "python3"
  },
  "language_info": {
   "codemirror_mode": {
    "name": "ipython",
    "version": 3
   },
   "file_extension": ".py",
   "mimetype": "text/x-python",
   "name": "python",
   "nbconvert_exporter": "python",
   "pygments_lexer": "ipython3",
   "version": "3.6.6"
  },
  "toc": {
   "base_numbering": 1,
   "nav_menu": {},
   "number_sections": true,
   "sideBar": true,
   "skip_h1_title": false,
   "title_cell": "Table of Contents",
   "title_sidebar": "Contents",
   "toc_cell": false,
   "toc_position": {},
   "toc_section_display": true,
   "toc_window_display": false
  },
  "varInspector": {
   "cols": {
    "lenName": 16,
    "lenType": 16,
    "lenVar": 40
   },
   "kernels_config": {
    "python": {
     "delete_cmd_postfix": "",
     "delete_cmd_prefix": "del ",
     "library": "var_list.py",
     "varRefreshCmd": "print(var_dic_list())"
    },
    "r": {
     "delete_cmd_postfix": ") ",
     "delete_cmd_prefix": "rm(",
     "library": "var_list.r",
     "varRefreshCmd": "cat(var_dic_list()) "
    }
   },
   "types_to_exclude": [
    "module",
    "function",
    "builtin_function_or_method",
    "instance",
    "_Feature"
   ],
   "window_display": false
  }
 },
 "nbformat": 4,
 "nbformat_minor": 2
}
